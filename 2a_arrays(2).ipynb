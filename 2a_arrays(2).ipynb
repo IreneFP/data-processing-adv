{
 "cells": [
  {
   "cell_type": "markdown",
   "metadata": {},
   "source": [
    "# 2. Arrays - Part 1"
   ]
  },
  {
   "cell_type": "markdown",
   "metadata": {},
   "source": [
    "Make sure that you always first import numpy! "
   ]
  },
  {
   "cell_type": "code",
   "execution_count": 1,
   "metadata": {
    "collapsed": true
   },
   "outputs": [],
   "source": [
    "import numpy"
   ]
  },
  {
   "cell_type": "markdown",
   "metadata": {},
   "source": [
    "## Create an array\n",
    "An array is a table of elements. \n",
    "An array in Python can be created from a pre-specified list or a tuple with the `array` function. \n",
    "\n",
    "An n-dimensional array can also be created from nested lists (tuples)\n",
    "\n",
    "For more information about creating arrays: \n",
    "http://docs.scipy.org/doc/numpy/user/basics.creation.html"
   ]
  },
  {
   "cell_type": "code",
   "execution_count": 37,
   "metadata": {},
   "outputs": [
    {
     "name": "stdout",
     "output_type": "stream",
     "text": [
      "[1 3 5 7 9]\n",
      "[2 4 6 8]\n",
      "[[2 3 3]\n",
      " [4 5 6]]\n"
     ]
    }
   ],
   "source": [
    "# create array from a list:\n",
    "print( numpy.array([1, 3, 5, 7, 9]) )\n",
    "\n",
    "# create array from a tuple:\n",
    "print( numpy.array((2, 4, 6, 8)) )\n",
    "\n",
    "# 2x2 array\n",
    "print(numpy.array([[2, 3, 3],\n",
    "                   [4, 5, 6]]))"
   ]
  },
  {
   "cell_type": "markdown",
   "metadata": {},
   "source": [
    "- `empty` creates an empty array (filled with arbitrary values)\n",
    "- `zeros` creates an array filled with zeros\n",
    "- `ones` creates an array filled with ones.\n",
    "All these functions take the shape of the array as input.  \n",
    "More about the shape and dimensionality is explained in the next section. "
   ]
  },
  {
   "cell_type": "code",
   "execution_count": 38,
   "metadata": {},
   "outputs": [
    {
     "name": "stdout",
     "output_type": "stream",
     "text": [
      "[[  9.88131292e-324   1.48219694e-323   1.48219694e-323]\n",
      " [  1.97626258e-323   2.47032823e-323   2.96439388e-323]]\n",
      "[[ 0.  0.  0.]\n",
      " [ 0.  0.  0.]]\n",
      "[[ 1.  1.  1.]\n",
      " [ 1.  1.  1.]]\n"
     ]
    }
   ],
   "source": [
    "twoxthree = (2,3)\n",
    "# create an empty array:\n",
    "print( numpy.empty(twoxthree) )\n",
    "\n",
    "# create array with only zeros:\n",
    "print( numpy.zeros((2,3)) )\n",
    "\n",
    "# create array with only ones:\n",
    "print (numpy.ones((2,3)) )"
   ]
  },
  {
   "cell_type": "markdown",
   "metadata": {},
   "source": [
    "To create an array with random numbers use the `numpy.random.random` function which gives an array with numbers between 0 and 1.\n",
    "\n",
    "The expression `numpy.random.uniform(x, y, z)` returns an array with with shape `z` random numbers uniformly drawn from the interval between `x` and `y`."
   ]
  },
  {
   "cell_type": "code",
   "execution_count": 6,
   "metadata": {},
   "outputs": [
    {
     "name": "stdout",
     "output_type": "stream",
     "text": [
      "[ 0.24476121  0.96669948  0.79533481  0.89405775]\n",
      "[[ 9.79202782  5.31577816  7.17847648]\n",
      " [ 5.19692152  6.23434914  5.04040067]]\n"
     ]
    }
   ],
   "source": [
    "# create array with random numbers between 0 and 1:\n",
    "print(numpy.random.random(4))\n",
    "\n",
    "# create array with random numbers between 5 and 10:\n",
    "print( numpy.random.uniform(5, 10, (2,3)) )"
   ]
  },
  {
   "cell_type": "markdown",
   "metadata": {},
   "source": [
    "The identity matrix is a $n \\times n$ matrix with all zeros, but with ones on the diagonal. \n",
    "The identity matrix can be created with the `eye(n)` function. Since the identity matrix is always a square only one input parameter is needed to create a 2-dimensional matrix."
   ]
  },
  {
   "cell_type": "code",
   "execution_count": 7,
   "metadata": {},
   "outputs": [
    {
     "name": "stdout",
     "output_type": "stream",
     "text": [
      "[[ 1.  0.  0.  0.  0.  0.  0.]\n",
      " [ 0.  1.  0.  0.  0.  0.  0.]\n",
      " [ 0.  0.  1.  0.  0.  0.  0.]\n",
      " [ 0.  0.  0.  1.  0.  0.  0.]\n",
      " [ 0.  0.  0.  0.  1.  0.  0.]\n",
      " [ 0.  0.  0.  0.  0.  1.  0.]\n",
      " [ 0.  0.  0.  0.  0.  0.  1.]]\n"
     ]
    }
   ],
   "source": [
    "# create n by n identity matrix:\n",
    "print( numpy.eye(7))"
   ]
  },
  {
   "cell_type": "markdown",
   "metadata": {},
   "source": [
    "Numpy has a function which is similar to the `range` function which is `arange(a, b, s)`, where $a$ is the start point, $b$ is the end point and $s$ is the step size. The function can have floats as inputs.\n",
    "Another function to create a range is the `linspace(a, b, i)` function, where $a$ is the start point, $b$ is the end point, and $i$ is the number of items.\n"
   ]
  },
  {
   "cell_type": "code",
   "execution_count": 27,
   "metadata": {},
   "outputs": [
    {
     "name": "stdout",
     "output_type": "stream",
     "text": [
      "[ 1.  3.  5.  7.  9.]\n",
      "[  1.     3.25   5.5    7.75  10.  ]\n"
     ]
    }
   ],
   "source": [
    "# use fixed step size:\n",
    "x = numpy.arange(1.0, 10.0, 2.0)\n",
    "print(x)\n",
    "\n",
    "# use fixed number of items:\n",
    "y = numpy.linspace(1.0, 10.0, 5)\n",
    "print(y)"
   ]
  },
  {
   "cell_type": "markdown",
   "metadata": {},
   "source": [
    "## Dimensions\n",
    "\n",
    "The array class in Python is called \"ndarray\". \n",
    "An array can be 1-dimensional, which is often called a (row or column) vector. By default, a one-dimensional numpy array is a row vector. In order to create a column vector, you need to use a two-dimensional array, with the second dimension equal to 1. See examples below.\n"
   ]
  },
  {
   "cell_type": "markdown",
   "metadata": {},
   "source": [
    "An array can be 2-dimensional, where $m$ is the number of rows and $n$ the number of columns. \n",
    "In case of a 2-dimensional array, the first dimension is the rows and the second dimension is the columns.\n",
    "\n",
    "### Bookshelf analogy\n",
    "An array can be $n$-dimensional. You think of $n$-dimensional arrays in terms of the bookshelf analogy:\n",
    "\n",
    "- 1d array is a single row of a bookshelf, where a book can be identified by its position in the row\n",
    "- 2d array is the whole bookshelf, where a book can be identified by its row number and its position in the row\n",
    "- 3d array is a room full of bookshelves, where a book can be identified by the number of the bookshelf, row, and position in the row\n",
    "- 4d array is a library with rooms with bookshelves, where a book can be identified by the room, bookshelf, row and position in the row\n",
    "\n",
    "\n",
    "### Reshaping arrays\n",
    "A 1D array can be converted to an $n$ dimensional array using the `reshape` function. \n",
    "\n",
    "Note that the the total number of elements in the array have to be the same as the product of the lengths of the dimensions. For example, if the length of the list is 24, then we can reshape it to a 4 by 6 matrix, but also to a 2 by 3 by 4 matrix.\n",
    "\n",
    "Let's assume we have a 2 by 3 by 4 matrix, which we will call `z`. Since the index in Python starts at 0, the first element of the array is `z[0,0,0]`, and the last element of the array is `z[1, 2, 3]`.\n",
    "\n",
    "Let x be the ndarray. Some important attributes to get insight in the dimensionality:\n",
    "- `x.ndim` : the number of dimensions.\n",
    "- `x.shape` : the length of each dimension.\n",
    "- `x.size` : the total number of elements."
   ]
  },
  {
   "cell_type": "markdown",
   "metadata": {},
   "source": [
    "### Create row vectors"
   ]
  },
  {
   "cell_type": "code",
   "execution_count": 39,
   "metadata": {},
   "outputs": [
    {
     "name": "stdout",
     "output_type": "stream",
     "text": [
      "[ 0.  0.  0.]\n",
      "1 (3,) 3\n"
     ]
    }
   ],
   "source": [
    "a = numpy.zeros((3))\n",
    "print(a); print(a.ndim, a.shape, a.size)"
   ]
  },
  {
   "cell_type": "code",
   "execution_count": 40,
   "metadata": {},
   "outputs": [
    {
     "name": "stdout",
     "output_type": "stream",
     "text": [
      "[1 2 3]\n",
      "1 (3,) 3\n"
     ]
    }
   ],
   "source": [
    "b = numpy.array([1, 2, 3])\n",
    "print(b); print(b.ndim, b.shape, b.size)"
   ]
  },
  {
   "cell_type": "markdown",
   "metadata": {},
   "source": [
    "### Create column vectors"
   ]
  },
  {
   "cell_type": "code",
   "execution_count": 12,
   "metadata": {},
   "outputs": [
    {
     "name": "stdout",
     "output_type": "stream",
     "text": [
      "[[ 0.]\n",
      " [ 0.]\n",
      " [ 0.]]\n",
      "2 (3, 1) 3\n"
     ]
    }
   ],
   "source": [
    "a = numpy.zeros((3,1))\n",
    "print(a); print(a.ndim, a.shape, a.size)"
   ]
  },
  {
   "cell_type": "code",
   "execution_count": 42,
   "metadata": {},
   "outputs": [
    {
     "name": "stdout",
     "output_type": "stream",
     "text": [
      "[1 2 3]\n",
      "1\n"
     ]
    }
   ],
   "source": [
    "b_1 = numpy.array([1,2,3])\n",
    "print(b_1)\n",
    "print(b_1.ndim)"
   ]
  },
  {
   "cell_type": "code",
   "execution_count": 43,
   "metadata": {},
   "outputs": [
    {
     "name": "stdout",
     "output_type": "stream",
     "text": [
      "[[1]\n",
      " [2]\n",
      " [3]]\n",
      "2 (3, 1) 3\n"
     ]
    }
   ],
   "source": [
    "b = numpy.array([[1], [2], [3]])\n",
    "print(b); print(b.ndim, b.shape, b.size)"
   ]
  },
  {
   "cell_type": "code",
   "execution_count": 46,
   "metadata": {},
   "outputs": [
    {
     "name": "stdout",
     "output_type": "stream",
     "text": [
      "[1 2 3]\n",
      "[[1]\n",
      " [2]\n",
      " [3]]\n",
      "2 (3, 1) 3\n"
     ]
    }
   ],
   "source": [
    "c_row = numpy.array([1,2,3])\n",
    "print(c_row)\n",
    "shape = (3,1)\n",
    "c = c_row.reshape(shape)\n",
    "print(c); print(c.ndim, c.shape, c.size)"
   ]
  },
  {
   "cell_type": "markdown",
   "metadata": {},
   "source": [
    "### Create two dimensonal arrays"
   ]
  },
  {
   "cell_type": "code",
   "execution_count": 34,
   "metadata": {},
   "outputs": [
    {
     "name": "stdout",
     "output_type": "stream",
     "text": [
      "[[ 2  4  6]\n",
      " [ 8 10 12]]\n",
      "[[1 3]\n",
      " [2 4]]\n"
     ]
    }
   ],
   "source": [
    "print( numpy.arange(2, 14, 2).reshape((2, 3)) )\n",
    "\n",
    "print( numpy.array([[1, 3], [2, 4]]) )"
   ]
  },
  {
   "cell_type": "code",
   "execution_count": 47,
   "metadata": {},
   "outputs": [
    {
     "name": "stdout",
     "output_type": "stream",
     "text": [
      "[[[ 0  1  2  3]\n",
      "  [ 4  5  6  7]\n",
      "  [ 8  9 10 11]]\n",
      "\n",
      " [[12 13 14 15]\n",
      "  [16 17 18 19]\n",
      "  [20 21 22 23]]]\n",
      "Number of dimensions: 3\n",
      "Length of each dimension: (2, 3, 4)\n",
      "The total number of elements: 24\n"
     ]
    }
   ],
   "source": [
    "# create three dimensional arrays:\n",
    "z1 = numpy.arange(24).reshape((2, 3, 4))\n",
    "z2 = numpy.array([[[1, 3], [2, 4]], [[11, 13], [12, 14]] ])\n",
    "\n",
    "# dimensions/shape/size of the array:\n",
    "print(z1)\n",
    "print(\"Number of dimensions:\", z1.ndim)\n",
    "print(\"Length of each dimension:\", z1.shape)\n",
    "print(\"The total number of elements:\", z1.size)"
   ]
  },
  {
   "cell_type": "code",
   "execution_count": 48,
   "metadata": {},
   "outputs": [
    {
     "name": "stdout",
     "output_type": "stream",
     "text": [
      "First element: 0\n",
      "Last element: 23\n",
      "Some element: 13\n"
     ]
    }
   ],
   "source": [
    "# access some elements in the three dimensional array:\n",
    "print(\"First element:\", z1[0, 0, 0])\n",
    "print(\"Last element:\", z1[1, 2, 3])\n",
    "print(\"Some element:\", z1[1, 0, 1])"
   ]
  },
  {
   "cell_type": "code",
   "execution_count": 63,
   "metadata": {},
   "outputs": [
    {
     "data": {
      "text/plain": [
       "array([[[ 8,  9, 10, 11]],\n",
       "\n",
       "       [[20, 21, 22, 23]]])"
      ]
     },
     "execution_count": 63,
     "metadata": {},
     "output_type": "execute_result"
    }
   ],
   "source": [
    "z1[:, 2:4, :]"
   ]
  },
  {
   "cell_type": "code",
   "execution_count": 52,
   "metadata": {},
   "outputs": [
    {
     "name": "stdout",
     "output_type": "stream",
     "text": [
      "[[ 0.38744103  0.12269152  0.06392178]\n",
      " [ 0.75074984  0.77765777  0.80978665]]\n",
      "First row:\n",
      " [ 0.38744103  0.12269152  0.06392178]\n",
      "Frist row:\n",
      " [ 0.38744103  0.12269152  0.06392178]\n",
      "Second column:\n",
      " [ 0.12269152  0.77765777]\n",
      "First two columns:\n",
      " [[ 0.38744103  0.12269152]\n",
      " [ 0.75074984  0.77765777]]\n"
     ]
    }
   ],
   "source": [
    "# Extract dimensions\n",
    "a = numpy.random.random(2*3).reshape(2,3)\n",
    "print(a)\n",
    "print(\"First row:\\n\", a[0, :])\n",
    "print(\"Frist row:\\n\", a[0,])\n",
    "print(\"Second column:\\n\", a[:, 1])\n",
    "print(\"First two columns:\\n\", a[:, 0:2])"
   ]
  },
  {
   "cell_type": "markdown",
   "metadata": {},
   "source": [
    "### Data types\n",
    "\n",
    "Data types were already discussed in the previous notebook, but here is a small recap. \n",
    "\n",
    "One array can only have one data type. \n",
    "The data type of the array can be obtained with the `.dtype` attribute. \n",
    "In case you mix different data types, the elements are converted to the same type. You can specify the data type of the array when you create the array with the `array` function with the `dtype=` argument.\n",
    "Example datatypes:\n",
    "\n",
    "- float (float64)\n",
    "- integer (int32 or int64)\n",
    "- boolean (bool)\n",
    "- complex (complex128)\n",
    "- string (e.g. `<U16`)\n",
    "\n",
    "Let assume you created an array `z` with the datatype integer and you want to convert it afterwards to the data type `float`: use the `astype` function. For example, `z.astype('float')` to convert `z` to the data type `float`."
   ]
  },
  {
   "cell_type": "markdown",
   "metadata": {},
   "source": [
    "## Exercises\n",
    "\n",
    "### Exercise 2a.1\n",
    "Form the 2-D array (without typing it in explicitly):\n",
    "```python\n",
    "[[1,  6, 11],\n",
    " [2,  7, 12],\n",
    " [3,  8, 13],\n",
    " [4,  9, 14],\n",
    " [5, 10, 15]]\n",
    " \n",
    " ```\n",
    "and generate a new array containing its 2nd and 4th rows.\n",
    "You may find useful the function `numpy.transpose`."
   ]
  },
  {
   "cell_type": "markdown",
   "metadata": {},
   "source": [
    "### Exercise 2a.2\n",
    "\n",
    "Generate a $5\\times 5 \\times 5$ 3D array of random numbers between -10.0 and 10.0. Reshape it to a $5 \\times 25$ matrix, and extract the first two rows of this matrix. \n"
   ]
  },
  {
   "cell_type": "markdown",
   "metadata": {
    "collapsed": true
   },
   "source": [
    "### Exercise 2a.3\n",
    "\n",
    "Load the content of the file [populations.txt](populations.txt) into a numpy array. Extract the first column into a vector and assign it to variable named `year`, extract the second column and assign it to variable `hare`, etc for the four columns.\n",
    "\n",
    "Convert the variables `year` and `carrot` into the datatype `int`.\n"
   ]
  },
  {
   "cell_type": "code",
   "execution_count": null,
   "metadata": {
    "collapsed": true
   },
   "outputs": [],
   "source": []
  }
 ],
 "metadata": {
  "kernelspec": {
   "display_name": "Python 3",
   "language": "python",
   "name": "python3"
  },
  "language_info": {
   "codemirror_mode": {
    "name": "ipython",
    "version": 3
   },
   "file_extension": ".py",
   "mimetype": "text/x-python",
   "name": "python",
   "nbconvert_exporter": "python",
   "pygments_lexer": "ipython3",
   "version": "3.6.7rc1"
  }
 },
 "nbformat": 4,
 "nbformat_minor": 1
}
