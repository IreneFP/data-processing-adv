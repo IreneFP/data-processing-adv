{
 "cells": [
  {
   "cell_type": "markdown",
   "metadata": {},
   "source": [
    "# 3. Vectorized operations"
   ]
  },
  {
   "cell_type": "code",
   "execution_count": 1,
   "metadata": {
    "collapsed": true
   },
   "outputs": [],
   "source": [
    "import numpy"
   ]
  },
  {
   "cell_type": "markdown",
   "metadata": {},
   "source": [
    "**Question**\n",
    "\n",
    "Given two lists `x = [10, 20, 30, 40]` and `y = [5, 7, 52, 34]` how would we sum elements at corresponding indices? "
   ]
  },
  {
   "cell_type": "markdown",
   "metadata": {},
   "source": [
    "Numpy arrays are designed to make such operations easy."
   ]
  },
  {
   "cell_type": "markdown",
   "metadata": {},
   "source": [
    "## Basic operations on arrays with the same shape\n",
    "\n",
    "The basic operations on arrays are applied elementwise.\n",
    "The basic operations are addition, subtraction, multiplication, division and power.\n",
    "The simplest case is when the shapes of the arrays are exactly the same, then an elementwise operation is straightforward. "
   ]
  },
  {
   "cell_type": "code",
   "execution_count": 2,
   "metadata": {
    "collapsed": false
   },
   "outputs": [
    {
     "name": "stdout",
     "output_type": "stream",
     "text": [
      "y - x =  [ -5 -13  22  -6]\n",
      "x + y =  [15 27 82 74]\n",
      "x * y =  [  50  140 1560 1360]\n",
      "x / y =  [ 2.          2.85714286  0.57692308  1.17647059]\n"
     ]
    }
   ],
   "source": [
    "# basic operations between two arrays with the same shape:\n",
    "x = numpy.array([10, 20, 30, 40])\n",
    "y = numpy.array([5, 7, 52, 34])\n",
    "\n",
    "print(\"y - x = \", y - x)\n",
    "print(\"x + y = \", x + y)\n",
    "print(\"x * y = \", x * y)\n",
    "print(\"x / y = \", x / y)"
   ]
  },
  {
   "cell_type": "markdown",
   "metadata": {},
   "source": [
    "## Basic operations on arrays with different shapes\n",
    "\n",
    "Besides operations between arrays of the same shape, also operations between arrays of different shapes are allowed, but are not always possible. Operations on arrays with different shapes involve *broadcasting*.\n",
    "\n",
    "For more information about Broadcasting:\n",
    "http://docs.scipy.org/doc/numpy/user/basics.broadcasting.html\n",
    "\n",
    "There are some different types of broadcasting:\n",
    "\n",
    "### Array and a scalar. \n",
    "There are no restrictions on the shape."
   ]
  },
  {
   "cell_type": "code",
   "execution_count": 5,
   "metadata": {
    "collapsed": false
   },
   "outputs": [
    {
     "name": "stdout",
     "output_type": "stream",
     "text": [
      "x - 2 =  [18 23 28 33]\n",
      "x * 2 =  [40 50 60 70]\n",
      "x **2 =  [ 400  625  900 1225]\n"
     ]
    }
   ],
   "source": [
    "# scalar term\n",
    "x = numpy.array([20, 25, 30, 35])\n",
    "print(\"x - 2 = \", x - 2)\n",
    "print(\"x * 2 = \", x * 2)\n",
    "print(\"x **2 = \", x**2)"
   ]
  },
  {
   "cell_type": "markdown",
   "metadata": {},
   "source": [
    "### Array and a row vector. \n",
    "The number of columns in the array has to be the same as the length of the row vector."
   ]
  },
  {
   "cell_type": "code",
   "execution_count": 6,
   "metadata": {
    "collapsed": false
   },
   "outputs": [
    {
     "name": "stdout",
     "output_type": "stream",
     "text": [
      "[[1 2 3]\n",
      " [4 5 6]]\n",
      "\n",
      "[5 5 5]\n",
      "\n",
      "[[1]\n",
      " [2]]\n"
     ]
    }
   ],
   "source": [
    "# operations between array and vector\n",
    "x = numpy.array([[1, 2, 3], [4, 5, 6]])\n",
    "y = numpy.array([5, 5, 5]) # row vector\n",
    "z = numpy.array([[1], [2]]) # column vector\n",
    "\n",
    "print(x)\n",
    "print()\n",
    "print(y)\n",
    "print()\n",
    "print(z)"
   ]
  },
  {
   "cell_type": "code",
   "execution_count": 7,
   "metadata": {
    "collapsed": false
   },
   "outputs": [
    {
     "name": "stdout",
     "output_type": "stream",
     "text": [
      "Operations between x and y which are applied for each row\n",
      "x + y = \n",
      " [[ 6  7  8]\n",
      " [ 9 10 11]]\n",
      "x * y = \n",
      " [[ 5 10 15]\n",
      " [20 25 30]]\n"
     ]
    }
   ],
   "source": [
    "# array and row vector\n",
    "print(\"Operations between x and y which are applied for each row\")\n",
    "print(\"x + y = \\n\", x+y)\n",
    "print(\"x * y = \\n\", x*y)"
   ]
  },
  {
   "cell_type": "markdown",
   "metadata": {},
   "source": [
    "### Array and a column vector. \n",
    "\n",
    "The number of rows in the array has to be the same as the length of the column vector.\n"
   ]
  },
  {
   "cell_type": "code",
   "execution_count": 8,
   "metadata": {
    "collapsed": false
   },
   "outputs": [
    {
     "name": "stdout",
     "output_type": "stream",
     "text": [
      "Operations between x and z which are applied for each column\n",
      "x + z = \n",
      " [[2 3 4]\n",
      " [6 7 8]]\n",
      "x * z = \n",
      " [[ 1  2  3]\n",
      " [ 8 10 12]]\n"
     ]
    }
   ],
   "source": [
    "# array and column vector\n",
    "print(\"Operations between x and z which are applied for each column\")\n",
    "print(\"x + z = \\n\", x+z)\n",
    "print(\"x * z = \\n\", x*z)"
   ]
  },
  {
   "cell_type": "markdown",
   "metadata": {},
   "source": [
    "## Vector transformations\n",
    "\n",
    "Simple examples of operations on vectors are:\n",
    "\n",
    "- Standardization: `z = (x - mean(x)) / stdev(x)`. Standardized values (z-scores) have zero mean and unit standard deviation. Standardization is often used before applying machine learning algorithms. \n",
    "\n",
    "- Feature scaling: `y = (x - min(x)) / (max(x) - min(x))`, which brings the score in the range 0 to 1.\n",
    "\n",
    "- Conversion between different scales of measurements. Some examples: from Fahrenheit to Celsius, or from Dollars to Euros, or from Inches to Centimetres. \n",
    "\n",
    "\n",
    "### Exercise 3.1\n",
    "\n",
    "Define function `standardize` which converts a vector of numbers to z-scores.\n"
   ]
  },
  {
   "cell_type": "code",
   "execution_count": 9,
   "metadata": {
    "collapsed": false
   },
   "outputs": [
    {
     "name": "stdout",
     "output_type": "stream",
     "text": [
      "[ 3.34602705  0.33649955  0.62714828  2.52290647  1.554453   -0.8489329\n",
      " -1.33359976  0.76831849 -0.61359304 -0.88223262]\n",
      "[ 1.89838679 -0.14327811  0.05389812  1.3399814   0.6829821  -0.94747607\n",
      " -1.2762743   0.14966806 -0.78782139 -0.97006661]\n",
      "0.0\n",
      "1.0\n"
     ]
    }
   ],
   "source": [
    "# 8< ..........................................\n",
    "x = numpy.random.normal(-1,3,10)\n",
    "print(x)\n",
    "\n",
    "def standardize(x):\n",
    "    return (x - numpy.mean(x))/numpy.std(x)\n",
    "\n",
    "print(standardize(x))\n",
    "print(numpy.mean(standardize(x)))\n",
    "print(numpy.std(standardize(x)))\n"
   ]
  },
  {
   "cell_type": "markdown",
   "metadata": {},
   "source": [
    "### Exercise 3.2\n",
    "- Define function `to_cm` which takes a vector of measurements in inches and converts them to centimeters.\n",
    "- Define function `to_celsius` which takes a vector of measurements in Fahrenheit and converts them to Celsius: C = (F-32)/1.8\n"
   ]
  },
  {
   "cell_type": "code",
   "execution_count": 10,
   "metadata": {
    "collapsed": false
   },
   "outputs": [
    {
     "name": "stdout",
     "output_type": "stream",
     "text": [
      "[  2.54   5.08  25.4 ]\n",
      "[-40.         -17.77777778  37.77777778]\n"
     ]
    }
   ],
   "source": [
    "# 8< ..............................................\n",
    "inch = numpy.array([1.0, 2.0, 10.0])\n",
    "f = numpy.array([-40, 0.0, 100.0])\n",
    "\n",
    "def to_cm(x):\n",
    "    return x * 2.54\n",
    "def to_celsius(x):\n",
    "    return (x-32)/1.8\n",
    "\n",
    "print(to_cm(inch))\n",
    "print(to_celsius(f))"
   ]
  },
  {
   "cell_type": "markdown",
   "metadata": {},
   "source": [
    "## Boolean operations on arrays\n",
    "\n",
    "Boolean conditions can also applied to the arrays. They are applied to every element in the array. Several different operators can be used, such as: equal to (`==`), not equal to (`!=`), greater than (`>=` or `>`), or less than (`<=` or `<`). "
   ]
  },
  {
   "cell_type": "code",
   "execution_count": 11,
   "metadata": {
    "collapsed": false
   },
   "outputs": [
    {
     "name": "stdout",
     "output_type": "stream",
     "text": [
      "(x > 15) =  [False  True  True False False  True]\n",
      "(y == 7) =  [ True False False  True False  True]\n"
     ]
    }
   ],
   "source": [
    "# boolean operations on arrays\n",
    "x = numpy.array([10, 20, 30, 14, 15, 16])\n",
    "y = numpy.array([7, 5, 5, 7, 5, 7]) \n",
    "print(\"(x > 15) = \", x>15)\n",
    "print(\"(y == 7) = \", y==7)"
   ]
  },
  {
   "cell_type": "markdown",
   "metadata": {},
   "source": [
    "## Mathematical functions applied on vectors"
   ]
  },
  {
   "cell_type": "markdown",
   "metadata": {},
   "source": [
    "Many mathematical functions can be applied to arrays elementwise, such as:\n",
    "\n",
    "- `numpy.sqrt`: square root\n",
    "- `numpy.sin`: sine\n",
    "- `numpy.cos`: cosine\n",
    "- `numpy.tan`: tangent\n",
    "- `numpy.exp`: exponential\n",
    "- `numpy.log`: natural logarithm (base e)\n",
    "- `numpy.log2`: base-2 logarithm \n",
    "- `numpy.log10`: base-10 logarithm"
   ]
  },
  {
   "cell_type": "code",
   "execution_count": 12,
   "metadata": {
    "collapsed": false
   },
   "outputs": [
    {
     "name": "stdout",
     "output_type": "stream",
     "text": [
      "x =  [1 2 3 4]\n",
      "sqrt(x) =  [ 1.          1.41421356  1.73205081  2.        ]\n",
      "sin(x) =  [ 0.84147098  0.90929743  0.14112001 -0.7568025 ]\n",
      "cos(x) =  [ 0.54030231 -0.41614684 -0.9899925  -0.65364362]\n",
      "tan(x) =  [ 1.55740772 -2.18503986 -0.14254654  1.15782128]\n",
      "exp(x) =  [  2.71828183   7.3890561   20.08553692  54.59815003]\n",
      "log(x) =  [ 0.          0.69314718  1.09861229  1.38629436]\n",
      "log2(x) =  [ 0.         1.         1.5849625  2.       ]\n",
      "log10(x) =  [ 0.          0.30103     0.47712125  0.60205999]\n"
     ]
    }
   ],
   "source": [
    "x = numpy.array([1, 2, 3, 4])\n",
    "print(\"x = \", x)\n",
    "print(\"sqrt(x) = \", numpy.sqrt(x))\n",
    "print(\"sin(x) = \", numpy.sin(x) )\n",
    "print(\"cos(x) = \", numpy.cos(x) )\n",
    "print(\"tan(x) = \", numpy.tan(x) )\n",
    "print(\"exp(x) = \", numpy.exp(x) )\n",
    "print(\"log(x) = \", numpy.log(x) )\n",
    "print(\"log2(x) = \", numpy.log2(x) )\n",
    "print(\"log10(x) = \", numpy.log10(x) )"
   ]
  },
  {
   "cell_type": "markdown",
   "metadata": {},
   "source": [
    "## Reductions\n",
    "\n",
    "Some methods can be applied to the entire array or to only one dimension:\n",
    "\n",
    "- `.sum` and `numpy.cumsum`\n",
    "- `.min` and `.argmin`\n",
    "- `.max` and `.argmax`"
   ]
  },
  {
   "cell_type": "code",
   "execution_count": 13,
   "metadata": {
    "collapsed": false
   },
   "outputs": [
    {
     "name": "stdout",
     "output_type": "stream",
     "text": [
      "[[1 6 5]\n",
      " [2 7 8]]\n",
      "sum: 29\n",
      "sum: 29\n",
      "minimum: 1 and index of minimum: 0\n",
      "maximum: 8 and index of maximum: 5\n"
     ]
    }
   ],
   "source": [
    "x = numpy.array([[1, 6, 5], [2, 7, 8]])\n",
    "print(x)\n",
    "# functions applied to the entire array:\n",
    "print(\"sum:\", x.sum())\n",
    "print(\"sum:\", numpy.sum(x))\n",
    "print(\"minimum:\", x.min(), \"and index of minimum:\", x.argmin())\n",
    "print(\"maximum:\", x.max(), \"and index of maximum:\", x.argmax())"
   ]
  },
  {
   "cell_type": "markdown",
   "metadata": {},
   "source": [
    "\n",
    "One important thing to notice is that the index retured by `argmin` or `argmax` is the linear index and not the multidimensional index (see [2b_arrays.ipynb](2b_arrays.ipynb))\n",
    "\n",
    "### Axis\n",
    "Many reduction functions have a parameter called `axis`. When `axis=0` the operation is carried out on columns, so that the result has one element per column. When `axis=1` the operation is carried out on rows, so that the result has one element per row.\n"
   ]
  },
  {
   "cell_type": "code",
   "execution_count": 14,
   "metadata": {
    "collapsed": false
   },
   "outputs": [
    {
     "name": "stdout",
     "output_type": "stream",
     "text": [
      "Sum columns: [ 3 13 13]\n",
      "Sum rows: [12 17]\n",
      "Minimum per column: [1 6 5]\n",
      "Maximum per row: [6 8]\n"
     ]
    }
   ],
   "source": [
    "# functions applied to only one dimension of the array:\n",
    "print(\"Sum columns:\", x.sum(axis=0))\n",
    "print(\"Sum rows:\", x.sum(axis=1))\n",
    "print(\"Minimum per column:\", x.min(axis=0))\n",
    "print(\"Maximum per row:\", x.max(axis=1))"
   ]
  },
  {
   "cell_type": "markdown",
   "metadata": {},
   "source": [
    "### Exercise 3.3\n",
    "Define function `scale` which takes a vector of numbers and brings them to the range from 0 to 1:\n",
    "$$\\mathrm{scale}(x_i) = \\frac{x_i - min(x)}{max(x) - min(x)}$$"
   ]
  },
  {
   "cell_type": "code",
   "execution_count": 15,
   "metadata": {
    "collapsed": false
   },
   "outputs": [
    {
     "name": "stdout",
     "output_type": "stream",
     "text": [
      "[0 1 2 3 4 5 6 7 8 9]\n",
      "[ 0.          0.11111111  0.22222222  0.33333333  0.44444444  0.55555556\n",
      "  0.66666667  0.77777778  0.88888889  1.        ]\n"
     ]
    }
   ],
   "source": [
    "# 8< .............................................\n",
    "def scale(x):\n",
    "    return (x - x.min())/(x.max() - x.min())\n",
    "\n",
    "z = numpy.arange(0,10)\n",
    "print(z)\n",
    "print(scale(z))\n",
    "\n"
   ]
  },
  {
   "cell_type": "markdown",
   "metadata": {},
   "source": [
    "### Exercise 3.4a\n",
    "\n",
    "The function `softmax` is often used in machine learning and statistics to convert a vector of arbitrary numbers into a vector of probabilities summing up to $1$. Softmax is computed by computing the exponential of each number, and then dividing each number by the sum of the exponentials:\n",
    "$$ \\mathrm{softmax}(x_i): \\frac{\\exp(x_i)}{\\sum_{k=1}^N \\exp(x_k)}$$\n",
    "\n",
    "Implement the softmax function. Verify that in the resulting vector all number are between 0 and 1. Verify that the resulting numbers sum up to $1$."
   ]
  },
  {
   "cell_type": "code",
   "execution_count": 19,
   "metadata": {
    "collapsed": false
   },
   "outputs": [
    {
     "name": "stdout",
     "output_type": "stream",
     "text": [
      "[ 0.05522743 -0.53386407  0.54687816  2.16878896 -0.29991347 -0.66503052\n",
      " -2.72362797  3.65152789 -0.99394274  0.18224684]\n",
      "[ 0.01973707  0.01095074  0.03227037  0.16337696  0.01383716  0.00960459\n",
      "  0.00122586  0.71967454  0.00691248  0.02241024]\n",
      "1.0\n",
      "True\n",
      "True\n"
     ]
    }
   ],
   "source": [
    "# 8< ...........................................\n",
    "z = numpy.random.normal(0,2,10)\n",
    "print(z)\n",
    "def softmax(x):\n",
    "    E = numpy.exp(x)\n",
    "    return E /numpy.sum(E)\n",
    "\n",
    "print(softmax(z))\n",
    "print(numpy.sum(softmax(z)))\n",
    "print(numpy.all(softmax(z) >= 0.0))\n",
    "print(numpy.all(softmax(z) <= 1.0))"
   ]
  },
  {
   "cell_type": "markdown",
   "metadata": {},
   "source": [
    "### Exercise 3.4b\n",
    "\n",
    "Implement a version of the softmax function which takes a matrix, and converts the values to probabilities such that each column sums up to 1."
   ]
  },
  {
   "cell_type": "code",
   "execution_count": 26,
   "metadata": {
    "collapsed": false
   },
   "outputs": [
    {
     "name": "stdout",
     "output_type": "stream",
     "text": [
      "[[-0.85204647 -1.87809144 -0.15519115  0.7535107   0.51966451]\n",
      " [-3.44600751  1.4940935  -1.42101538 -2.34846816  1.80497619]\n",
      " [-0.40157707 -0.00642536  0.11168924 -0.40898966 -2.62792004]\n",
      " [-1.30627749 -1.39898731 -1.55924743  3.60366758 -0.73247516]]\n",
      "\n",
      "[[ 0.30499819  0.02613978  0.3529217   0.0536246   0.20223907]\n",
      " [ 0.02279052  0.7617688   0.0995263   0.00241097  0.73125498]\n",
      " [ 0.47855695  0.16988542  0.46087488  0.01676859  0.00868733]\n",
      " [ 0.19365434  0.042206    0.08667712  0.92719584  0.05781862]]\n",
      "[ 1.  1.  1.  1.  1.]\n",
      "True\n",
      "True\n"
     ]
    }
   ],
   "source": [
    "# 8< ...........................................\n",
    "z = numpy.random.normal(0,2,(4,5))\n",
    "print(z)\n",
    "print()\n",
    "def softmax(x):\n",
    "    E = numpy.exp(x)\n",
    "    return E /numpy.sum(E, axis=0)\n",
    "\n",
    "print(softmax(z))\n",
    "print(numpy.sum(softmax(z), axis=0))\n",
    "print(numpy.all(softmax(z) >= 0.0))\n",
    "print(numpy.all(softmax(z) <= 1.0))"
   ]
  },
  {
   "cell_type": "markdown",
   "metadata": {},
   "source": [
    "## Sorting\n",
    "\n",
    "For sorting use the functions and `sort` and `argsort`."
   ]
  },
  {
   "cell_type": "code",
   "execution_count": 27,
   "metadata": {
    "collapsed": false
   },
   "outputs": [
    {
     "name": "stdout",
     "output_type": "stream",
     "text": [
      "Applied to 1-dimensional array\n",
      "Original x:            [5 3 6 2 6 8]\n",
      "Sorted   x:            [2 3 5 6 6 8]\n",
      "Indices of argsort:    [3 1 0 2 4 5]\n",
      "Sorted using indices:  [2 3 5 6 6 8]\n"
     ]
    }
   ],
   "source": [
    "# sorting an 1-dimensional array:\n",
    "print(\"Applied to 1-dimensional array\")\n",
    "x = numpy.array([5, 3, 6, 2, 6, 8])\n",
    "print(\"Original x:           \", x)\n",
    "print(\"Sorted   x:           \", numpy.sort(x))\n",
    "y = x.argsort()\n",
    "print(\"Indices of argsort:   \", y)\n",
    "print(\"Sorted using indices: \", x[y])"
   ]
  },
  {
   "cell_type": "markdown",
   "metadata": {},
   "source": [
    "**Attention**  The method `.sort` sorts the array in-place, that is destructively. Use with at own risk."
   ]
  },
  {
   "cell_type": "code",
   "execution_count": 28,
   "metadata": {
    "collapsed": false
   },
   "outputs": [
    {
     "name": "stdout",
     "output_type": "stream",
     "text": [
      "x= [2 3 1]\n",
      "x= [1 2 3]\n"
     ]
    }
   ],
   "source": [
    "x = numpy.array([2, 3, 1])\n",
    "print(\"x=\", x)\n",
    "x.sort()\n",
    "print(\"x=\", x)"
   ]
  },
  {
   "cell_type": "markdown",
   "metadata": {},
   "source": [
    "Sorting can also be done per row or column."
   ]
  },
  {
   "cell_type": "code",
   "execution_count": 29,
   "metadata": {
    "collapsed": false
   },
   "outputs": [
    {
     "name": "stdout",
     "output_type": "stream",
     "text": [
      "Original: \n",
      "[[5 3 4]\n",
      " [2 4 2]]\n",
      "Columns are sorted: \n",
      "[[2 3 2]\n",
      " [5 4 4]]\n",
      "Rows are sorted: \n",
      "[[3 4 5]\n",
      " [2 2 4]]\n"
     ]
    }
   ],
   "source": [
    "x = numpy.array([[5, 3, 4],[2, 4, 2]])\n",
    "print(\"Original: \")\n",
    "print(x)\n",
    "print(\"Columns are sorted: \")\n",
    "print(numpy.sort(x, axis=0))\n",
    "\n",
    "print(\"Rows are sorted: \")\n",
    "print(numpy.sort(x, axis=1))\n"
   ]
  },
  {
   "cell_type": "markdown",
   "metadata": {},
   "source": [
    "## Reversing\n",
    "\n",
    "There is a special indexing syntax in `numpy` to obtain a view of the array in the reverse order. "
   ]
  },
  {
   "cell_type": "code",
   "execution_count": 30,
   "metadata": {
    "collapsed": false
   },
   "outputs": [
    {
     "name": "stdout",
     "output_type": "stream",
     "text": [
      "[6 3 1 1 4]\n",
      "\n",
      "[4 1 1 3 6]\n"
     ]
    }
   ],
   "source": [
    "a = numpy.random.randint(0,10,5)\n",
    "print(a)\n",
    "print()\n",
    "print(a[::-1])"
   ]
  },
  {
   "cell_type": "markdown",
   "metadata": {
    "collapsed": true
   },
   "source": [
    "### Exercise 3.5\n",
    "\n",
    "The file `winequality-red.csv` contains measurements of wine samples, together with a quality rating. You can load this data into a structured array like this:"
   ]
  },
  {
   "cell_type": "code",
   "execution_count": 34,
   "metadata": {
    "collapsed": false
   },
   "outputs": [],
   "source": [
    "data = numpy.genfromtxt(\"winequality-red.csv\", names=True, delimiter=';')"
   ]
  },
  {
   "cell_type": "markdown",
   "metadata": {},
   "source": [
    "- Sort the data according to the quality rating, from lowest to highest\n",
    "- Now sort the wines from highest to lowest"
   ]
  },
  {
   "cell_type": "code",
   "execution_count": 35,
   "metadata": {
    "collapsed": false
   },
   "outputs": [
    {
     "name": "stdout",
     "output_type": "stream",
     "text": [
      "[ (  6.7,  0.76 ,  0.02,  1.8,  0.078,   6.,  12.,  0.996  ,  3.55,  0.63,   9.95,  3.)\n",
      " (  6.8,  0.815,  0.  ,  1.2,  0.267,  16.,  29.,  0.99471,  3.32,  0.51,   9.8 ,  3.)\n",
      " (  7.1,  0.875,  0.05,  5.7,  0.082,   3.,  14.,  0.99808,  3.4 ,  0.52,  10.2 ,  3.)\n",
      " ...,\n",
      " ( 10.7,  0.35 ,  0.53,  2.6,  0.07 ,   5.,  16.,  0.9972 ,  3.15,  0.65,  11.  ,  8.)\n",
      " ( 11.3,  0.62 ,  0.67,  5.2,  0.086,   6.,  19.,  0.9988 ,  3.22,  0.69,  13.4 ,  8.)\n",
      " ( 12.6,  0.31 ,  0.72,  2.2,  0.072,   6.,  29.,  0.9987 ,  2.88,  0.82,   9.8 ,  8.)]\n",
      "\n",
      "[ ( 12.6,  0.31 ,  0.72,  2.2,  0.072,   6.,  29.,  0.9987 ,  2.88,  0.82,   9.8 ,  8.)\n",
      " ( 11.3,  0.62 ,  0.67,  5.2,  0.086,   6.,  19.,  0.9988 ,  3.22,  0.69,  13.4 ,  8.)\n",
      " ( 10.7,  0.35 ,  0.53,  2.6,  0.07 ,   5.,  16.,  0.9972 ,  3.15,  0.65,  11.  ,  8.)\n",
      " ...,\n",
      " (  7.1,  0.875,  0.05,  5.7,  0.082,   3.,  14.,  0.99808,  3.4 ,  0.52,  10.2 ,  3.)\n",
      " (  6.8,  0.815,  0.  ,  1.2,  0.267,  16.,  29.,  0.99471,  3.32,  0.51,   9.8 ,  3.)\n",
      " (  6.7,  0.76 ,  0.02,  1.8,  0.078,   6.,  12.,  0.996  ,  3.55,  0.63,   9.95,  3.)]\n"
     ]
    }
   ],
   "source": [
    "data_s = numpy.sort(data, order='quality')\n",
    "# Ascending\n",
    "print(data_s)\n",
    "print()\n",
    "# Descending\n",
    "print(data_s[::-1])"
   ]
  },
  {
   "cell_type": "markdown",
   "metadata": {},
   "source": [
    "### Rounding \n",
    "\n",
    "Rounding functions:\n",
    "- `numpy.round`\n",
    "- `numpy.floor`\n",
    "- `numpy.ceil`\n"
   ]
  },
  {
   "cell_type": "code",
   "execution_count": 36,
   "metadata": {
    "collapsed": false
   },
   "outputs": [
    {
     "name": "stdout",
     "output_type": "stream",
     "text": [
      "not rounded: [[ 6.69805743  0.54245276  6.61575029  5.84070497  9.46216215]]\n",
      "round: [[ 6.7   0.54  6.62  5.84  9.46]]\n",
      "round down: [[ 6.  0.  6.  5.  9.]]\n",
      "round up: [[  7.   1.   7.   6.  10.]]\n"
     ]
    }
   ],
   "source": [
    "# rounding \n",
    "x = 10*numpy.random.random((1,5))\n",
    "print(\"not rounded:\", x)\n",
    "\n",
    "x1 = numpy.round(x, decimals = 2)\n",
    "print(\"round:\", x1)\n",
    "\n",
    "x2 = numpy.floor(x)\n",
    "print(\"round down:\", x2)\n",
    "\n",
    "x3 = numpy.ceil(x)\n",
    "print(\"round up:\", x3)"
   ]
  },
  {
   "cell_type": "markdown",
   "metadata": {},
   "source": [
    "### Statistics\n",
    "\n",
    "Statistics functions:\n",
    "\n",
    "- `numpy.median` : median\n",
    "- `numpy.mean` : mean\n",
    "- `numpy.average`: (weighted) average\n",
    "- `numpy.std` : standard deviation\n",
    "- `numpy.var` : variance\n",
    "- `numpy.cov` : covariance matrix\n",
    "- `numpy.corrcoef` : Pearson product-moment correlation coefficients\n",
    "\n",
    "These functions can be applied to the entire array, or to only one axis. When applied to one axis, then the parameter `axis` can be used. Similar functions exists which ignore NaN, these functions are called: `nanmedian`, `nanmean`, `nanstd`, `nanvar`. \n",
    "\n",
    "For more statistical functions in numpy: http://docs.scipy.org/doc/numpy/reference/routines.statistics.html"
   ]
  },
  {
   "cell_type": "markdown",
   "metadata": {},
   "source": [
    "### Exercise 3.6a\n",
    "\n",
    "Define function `print_summary` which takes a structured vector of numerical values and prints, for each column, basic statistics:\n",
    "\n",
    "- name (name of the column in the input array)\n",
    "- mean \n",
    "- median\n",
    "- min (minimum value)\n",
    "- max (maximum value)\n",
    "- std (standard deviation)\n",
    "\n",
    "For example:\n",
    "```\n",
    "column: fixed_acidity\n",
    "mean: 8.31963727329581\n",
    "median: 7.9\n",
    "min: 4.6\n",
    "max: 15.9\n",
    "std: 1.7405518001102729\n",
    "column: volatile_acidity\n",
    "mean: 0.5278205128205128\n",
    "median: 0.52\n",
    "min: 0.12\n",
    "max: 1.58\n",
    "...\n",
    "```\n",
    "\n",
    "### Exercise 3.6b\n",
    "Modify the above function so that it takes an additional argument where the user can specify the number of decimal digits to display. For example, `print_summary(data, decimals=2)`:\n",
    "```\n",
    "column: fixed_acidity\n",
    "mean: 8.32\n",
    "median: 7.9\n",
    "min: 4.6\n",
    "max: 15.9\n",
    "std: 1.74\n",
    "....\n",
    "```\n"
   ]
  },
  {
   "cell_type": "code",
   "execution_count": 37,
   "metadata": {
    "collapsed": false
   },
   "outputs": [
    {
     "name": "stdout",
     "output_type": "stream",
     "text": [
      "column: year\n",
      "mean: 1910.0\n",
      "median: 1910.0\n",
      "min: 1900.0\n",
      "max: 1920.0\n",
      "std: 6.0553007081949835\n",
      "column: hare\n",
      "mean: 34080.95238095238\n",
      "median: 25400.0\n",
      "min: 7600.0\n",
      "max: 77400.0\n",
      "std: 20897.906458089667\n",
      "column: lynx\n",
      "mean: 20166.666666666668\n",
      "median: 12300.0\n",
      "min: 4000.0\n",
      "max: 59400.0\n",
      "std: 16254.591536908763\n",
      "column: carrot\n",
      "mean: 42400.0\n",
      "median: 41800.0\n",
      "min: 36700.0\n",
      "max: 48300.0\n",
      "std: 3322.5062255844787\n"
     ]
    }
   ],
   "source": [
    "# 8< ............................................................\n",
    "import numpy\n",
    "population = numpy.genfromtxt(\"populations.txt\", names=True)\n",
    "\n",
    "def print_summary(data):\n",
    "    for col in data.dtype.names:\n",
    "        print(\"column: {}\".format(col))\n",
    "        print(\"mean: {}\".format(numpy.mean(data[col])))\n",
    "        print(\"median: {}\".format(numpy.median(data[col])))\n",
    "        print(\"min: {}\".format(numpy.min(data[col])))\n",
    "        print(\"max: {}\".format(numpy.max(data[col])))\n",
    "        print(\"std: {}\".format(numpy.std(data[col])))\n",
    "        \n",
    "print_summary(population)"
   ]
  },
  {
   "cell_type": "markdown",
   "metadata": {},
   "source": [
    "## Python modules\n",
    "\n",
    "A Python module is a collection of reusable functions. You can create a module by putting some function definitions in a file with the extension `.py`. For example, put some of the functions you defined above in a file called `functions.py`. You can then use them from any notebook or other Python code by importing like this:\n",
    "\n",
    "```python\n",
    "from functions import * \n",
    "```\n",
    "This will import all functions from this module, and they can be used directly.\n",
    "\n",
    "The alternative is:\n",
    "\n",
    "```python\n",
    "import functions as F\n",
    "```\n",
    "where `F` is some shortened name. If your module have the function `scale`, you will then call it as `F.scale`.\n",
    "\n",
    "Try this in a new notebook.\n",
    "\n",
    "\n",
    "**For assignment 1 you will need to submit a Python module with a number of function definitions.** Make sure you understand this concept."
   ]
  },
  {
   "cell_type": "code",
   "execution_count": null,
   "metadata": {
    "collapsed": true
   },
   "outputs": [],
   "source": []
  }
 ],
 "metadata": {
  "kernelspec": {
   "display_name": "Python 3",
   "language": "python",
   "name": "python3"
  },
  "language_info": {
   "codemirror_mode": {
    "name": "ipython",
    "version": 3
   },
   "file_extension": ".py",
   "mimetype": "text/x-python",
   "name": "python",
   "nbconvert_exporter": "python",
   "pygments_lexer": "ipython3",
   "version": "3.4.3+"
  }
 },
 "nbformat": 4,
 "nbformat_minor": 1
}
