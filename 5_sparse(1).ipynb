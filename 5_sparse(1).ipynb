{
 "cells": [
  {
   "cell_type": "markdown",
   "metadata": {},
   "source": [
    "# 5. Dense and sparse matrices\n",
    "\n",
    "In this notebook in addition to NumPy we'll also be using SciPy. SciPy is a library for (mathematical) functions that are often used in scientific research.\n",
    "It consists of function for optimization, interpolation, integration, linear algebra, statistics and other topics.\n",
    "SciPy also has functions to work with sparse matrices.\n",
    "Make sure SciPy is installed on your system. When using the Jupyter server of the university SciPy is already installed.\n",
    "Since we will work in this notebook with the sparse submodule of the SciPy package we have to import this module separately.\n",
    "\n",
    "For more information about SciPy visit the following website:\n",
    "http://docs.scipy.org/doc/scipy/reference/tutorial/index.html"
   ]
  },
  {
   "cell_type": "code",
   "execution_count": 1,
   "metadata": {
    "collapsed": true
   },
   "outputs": [],
   "source": [
    "import numpy\n",
    "import scipy\n",
    "import scipy.sparse"
   ]
  },
  {
   "cell_type": "markdown",
   "metadata": {},
   "source": [
    "## Dense versus sparse matrices\n",
    "\n",
    "\n",
    "Sparseness can refer to either the **content** of a matrix, or to the **representation** of a matrix in the program.\n",
    "\n",
    "### Dense and sparse content\n",
    "\n",
    "A dense matrix is a matrix with a lot of nonzero elements.\n",
    "A sparse matrix is the opposite and contains of a lot of zeros. \n",
    "\n",
    "The level of sparsity or density is an indication of how sparse or dense the matrix is.\n",
    "The sparsity/density can be computed by dividing the number of nonzero elements by the total number of elements.\n",
    "When this number is low, then the matrix contains a lot of zeros and therefore the matrix is called sparse.\n",
    "When this number is high, then the matrix contains no or only a few zeros and therefore the matrix is called dense."
   ]
  },
  {
   "cell_type": "markdown",
   "metadata": {},
   "source": [
    "### Sparse matrix representations\n",
    "\n",
    "When a matrix contains only a few nonzero elements then a specialized sparse representation of the matrix can be used. A sparse representation is a represenation in which only the nonzero elements are stored, while the zeros are implicit. There are several different sparse representations.\n",
    "\n",
    "In the case where the matrix is large and sparse it will be beneficial to use a sparse representation of the matrix.\n",
    "The advantage of using a sparse matrix representation are:\n",
    "- Memory: less memory is needed to store the matrix since the zero elements are not stored.\n",
    "- Efficiency: using a sparse matrix in functions or loops can speed up the process in comparison with using a dense representation of the matrix since the zero elements are skipped in the sparse representation."
   ]
  },
  {
   "cell_type": "markdown",
   "metadata": {},
   "source": [
    "Examples of situations when a sparse matrix structure is used:\n",
    "\n",
    "- In the case of counting words in textual documents. A document-term matrix is created, which is a matrix where for every document a vector is representing the frequencies of the words that occur in that document. A document-term matrix has in general a lot of nzero values and therefore a sparse matrix structure is optimal.\n",
    "- All diagonal matrices only have values on the diagonal and the other values are zeros, so these matrices can be better represented as a sparse matrix or alternatively as a vector of only the diagonal components.\n",
    "- Upper or lower triangular matrix. Only approximately half of the records (including the diagonal) is non-zero and the other half is zeros. In the upper triangular matrix the upper part of the matrix has non-zero values and in the lower triangular matrix the lower part of the matrix has non-zero values. "
   ]
  },
  {
   "cell_type": "markdown",
   "metadata": {},
   "source": [
    "## Different ways to store a sparse matrix\n",
    "\n",
    "There are several different sparse matrix classes in SciPy:\n",
    "- Dictionary of keys (dok_matrix)\n",
    "- List of lists (lil_matrix)\n",
    "- Coordinate list (coo_matrix)\n",
    "- Diagonal storage (dia_matrix)\n",
    "- Compressed sparse column (csc_matrix)\n",
    "- Compressed sparse row (csr_matrix)\n",
    "- Block sparse row matrix (bsr_matrix)\n",
    "\n",
    "\n",
    "If you want to create a sparse matrix incrementally, it's best to use `dok` or `lil`.\n",
    "You should then convert it to `csc` or `csr` for efficient matrix operations, such as matrix multiplication or inversion.\n",
    "\n",
    "Below some different sparse matrix classes will be discussed separately.\n",
    "For more information: http://docs.scipy.org/doc/scipy/reference/sparse.html"
   ]
  },
  {
   "cell_type": "markdown",
   "metadata": {},
   "source": [
    "### Dictionary of keys (dok)\n",
    "\n",
    "As the name indicates the dictionary of keys is a dictionary format where every key in the dictionary represents the row and column indices of the element and the value in the dictionary represents the value of the element at that particular position. Elements with value 0 are not present in the dictionary, but they are assumed to be implicitly zero. \n",
    "\n"
   ]
  },
  {
   "cell_type": "code",
   "execution_count": 2,
   "metadata": {
    "collapsed": false
   },
   "outputs": [
    {
     "name": "stdout",
     "output_type": "stream",
     "text": [
      "  (1, 2)\t-1\n",
      "  (3, 2)\t1\n",
      "  (1, 3)\t-2\n",
      "  (3, 0)\t3\n",
      "  (2, 1)\t1\n",
      "  (2, 3)\t-1\n",
      "  (1, 4)\t-3\n",
      "  (4, 2)\t2\n",
      "  (1, 0)\t1\n",
      "  (0, 3)\t-3\n",
      "  (4, 0)\t4\n",
      "  (0, 1)\t-1\n",
      "  (3, 4)\t-1\n",
      "  (3, 1)\t2\n",
      "  (2, 4)\t-2\n",
      "  (2, 0)\t2\n",
      "  (4, 3)\t1\n",
      "  (0, 4)\t-4\n",
      "  (4, 1)\t3\n",
      "  (0, 2)\t-2\n"
     ]
    }
   ],
   "source": [
    "# Create a dok matrix incrementally\n",
    "\n",
    "S = scipy.sparse.dok_matrix((5, 5), dtype=numpy.int32)\n",
    "for i in range(5):\n",
    "    for j in range(5):\n",
    "        S[i,j] = i - j\n",
    "print(S)"
   ]
  },
  {
   "cell_type": "markdown",
   "metadata": {},
   "source": [
    "### Exercise 5.1\n",
    "\n",
    "In this exercise we will learn how to build a document-term matrix.\n",
    "We'll build two functions.\n",
    "\n",
    "- Create function `word_index`  which takes a list of words, and returns a dictionary mapping each unique word to an index. The role of this function is to associate word types with columns in the document-term matrix.\n",
    "\n",
    "For example:\n",
    "```python\n",
    "word_index(\"A rose is a rose\".split())\n",
    "```\n",
    "```\n",
    "{'A': 0, 'a': 3, 'is': 2, 'rose': 1}\n",
    "```\n",
    "- Create function `word_count` which takes a list of texts (where text is a list of words), and returns two values:\n",
    "   - the dictionary mapping words to indices (as computed by the function `word_index` above).\n",
    "   - the `dok_matrix` which counts how many times each word occurs in each text. The matrix should be $M\\times N$, where $M$ is the number of texts and  $N$ is the total number word types (i.e. total number of unique words). In your implementation you will use the function `word_index` to map words to indices.\n",
    "\n",
    "Example:\n",
    "\n",
    "```python\n",
    "text = ['All human beings are born free and equal in dignity and rights'.split(),\n",
    "       'They are endowed with reason and conscience and should act towards one another in a spirit of brotherhood'.split()]\n",
    "vocab, M = word_count(text)\n",
    "print(M[0, vocab['and']])\n",
    "print(M[1, vocab['reason']])\n",
    "```       \n",
    "Output:\n",
    "```\n",
    "2.0\n",
    "1.0\n",
    "```"
   ]
  },
  {
   "cell_type": "markdown",
   "metadata": {},
   "source": [
    "### Compressed sparse row (csr)\n",
    "\n",
    "CSR represents the matrix by three arrays, that contain the non-zero values, the extents of rows and the column indices. \n",
    "\n",
    "`scipy.sparse.csr_matrix(D, shape=(nrows, ncols), dtype=)`\n",
    "\n",
    "Advantages: efficient arithmetic operations, efficient row slicing and row operations, and fast matrix vector products. \n",
    "\n",
    "Disadvantages: slow column slicing operations (use CSC for faster column slicing), and changes to the sparsity structure are expensive (use LIL or DOK instead). \n"
   ]
  },
  {
   "cell_type": "code",
   "execution_count": 3,
   "metadata": {
    "collapsed": false
   },
   "outputs": [
    {
     "name": "stdout",
     "output_type": "stream",
     "text": [
      "[[ 0.  1.  0.]\n",
      " [ 1.  0.  0.]\n",
      " [ 1.  1.  1.]]\n",
      "  (0, 1)\t1\n",
      "  (1, 0)\t1\n",
      "  (2, 0)\t1\n",
      "  (2, 1)\t1\n",
      "  (2, 2)\t1\n"
     ]
    }
   ],
   "source": [
    "D = numpy.round(numpy.random.random((3,3)))\n",
    "print(D)\n",
    "S = scipy.sparse.csr_matrix(D, shape=(3,3), dtype=numpy.int32)\n",
    "print(S)"
   ]
  },
  {
   "cell_type": "markdown",
   "metadata": {},
   "source": [
    "### Compressed sparse column (csc)\n",
    "\n",
    "Similar to Compressed sparse row (CSR) matrices, but then orientated to the columns. \n",
    "\n",
    "`scipy.sparse.csc_matrix(D, shape=(nrows, ncols), dtype=)`\n",
    "\n",
    "Advantages: efficient arithmetic operations, efficient column slicing, and fast matrix vector products (but CSR may be faster).\n",
    "\n",
    "Disadvantages: slow row slicing operations (use CSR instead), and changes tot he sparsity structure are expensive (use LIL or DOK). \n"
   ]
  },
  {
   "cell_type": "code",
   "execution_count": 4,
   "metadata": {
    "collapsed": false
   },
   "outputs": [
    {
     "name": "stdout",
     "output_type": "stream",
     "text": [
      "  (2, 0)\t1\n",
      "  (0, 1)\t1\n",
      "  (0, 2)\t1\n"
     ]
    }
   ],
   "source": [
    "D = numpy.round(numpy.random.random((3,3)))\n",
    "S = scipy.sparse.csc_matrix(D, shape=(3,3), dtype=numpy.int32)\n",
    "print(S)"
   ]
  },
  {
   "cell_type": "markdown",
   "metadata": {},
   "source": [
    "## Functions to create a sparse matrix\n",
    "\n",
    "The following three letter abbreviations of the sparse representations are as format specifiers when creating sparse matrices: `dok, lil, coo, csr, csc, dia, and bsr`. \n",
    "\n",
    "There are several built-in functions to create a special matrix in a sparse representation. Some examples:\n",
    "\n",
    "- Create the m by n identity matrix with the ones on the diagonal (k=0 is the main diagonal):  \n",
    "\n",
    "`scipy.sparse.eye(m, n, k, dtype=, format= )`\n",
    "\n",
    "- Create a m by n matrix with random elements (floats between 0 and 1) and the density of the matrix can be given:\n",
    "\n",
    "`scipy.sparse.rand(m, n, density=, format=, dtype= )`"
   ]
  },
  {
   "cell_type": "code",
   "execution_count": 5,
   "metadata": {
    "collapsed": false
   },
   "outputs": [
    {
     "name": "stdout",
     "output_type": "stream",
     "text": [
      "[[1 0 0 0]\n",
      " [0 1 0 0]\n",
      " [0 0 1 0]]\n"
     ]
    }
   ],
   "source": [
    "# sparse identity matrix\n",
    "E = scipy.sparse.eye(3, 4, 0, dtype=numpy.int32, format=\"dok\" )\n",
    "print(E.toarray())"
   ]
  },
  {
   "cell_type": "code",
   "execution_count": 6,
   "metadata": {
    "collapsed": false
   },
   "outputs": [
    {
     "name": "stdout",
     "output_type": "stream",
     "text": [
      "  (1, 0)\t0.0386144\n"
     ]
    }
   ],
   "source": [
    "# sparse random matrix\n",
    "R = scipy.sparse.rand(5, 5, density=0.06, format=\"coo\", dtype=numpy.float32)\n",
    "print(R)"
   ]
  },
  {
   "cell_type": "markdown",
   "metadata": {},
   "source": [
    "## Check if the matrix is sparse\n",
    "\n",
    "When you want to check whether or not the matrix is a sparse format then the following function can be helpful:\n",
    "- `scipy.sparse.issparse(x)`\n",
    "- `scipy.sparse.isspmatrix(x)`\n",
    "- `scipy.sparse.isspmatrix_dok(x), scipy.sparse.isspmatrix_lil(x), scipy.sparse.isspmatrix_coo(x)`: the function is the same for all different formats and everytime the three letters abbreviations are used. \n",
    "\n",
    "All these functions return `True` in the case where the matrix is sparse and of the particular type and `False` otherwise."
   ]
  },
  {
   "cell_type": "code",
   "execution_count": 7,
   "metadata": {
    "collapsed": false
   },
   "outputs": [
    {
     "name": "stdout",
     "output_type": "stream",
     "text": [
      "Is sparse? True\n",
      "Is Dictionary of Keys format? False\n",
      "Is Coordinate lists format? True\n"
     ]
    }
   ],
   "source": [
    "R = scipy.sparse.rand(5,5,density=0.2, format=\"coo\", dtype=numpy.float32)\n",
    "print(\"Is sparse?\", scipy.sparse.issparse(R))\n",
    "print(\"Is Dictionary of Keys format?\", scipy.sparse.isspmatrix_dok(R))\n",
    "print(\"Is Coordinate lists format?\", scipy.sparse.isspmatrix_coo(R) )"
   ]
  },
  {
   "cell_type": "markdown",
   "metadata": {},
   "source": [
    "## Using the sparse representations\n",
    "\n",
    "You can use the matrices with sparse represenations in normal mathematical transformations, such as addition, substraction, division, multiplication, and matrix power.\n",
    "\n",
    "If you want to elementwise-multiply two sparse matrices, you can use the x.multiply(y) function.\n",
    "\n",
    "http://docs.scipy.org/doc/scipy/reference/sparse.html"
   ]
  },
  {
   "cell_type": "code",
   "execution_count": 8,
   "metadata": {
    "collapsed": false
   },
   "outputs": [
    {
     "name": "stdout",
     "output_type": "stream",
     "text": [
      "x=\n",
      "  (1, 0)\t0.804264\n",
      "  (1, 1)\t0.227985\n",
      "  (2, 1)\t0.606306\n",
      "  (2, 2)\t0.748724\n",
      "y=\n",
      "  (0, 0)\t0.0641356\n",
      "  (0, 2)\t0.0615467\n",
      "  (2, 0)\t0.169861\n",
      "  (2, 2)\t0.850045\n",
      "x+y=\n",
      "  (0, 0)\t0.0641356\n",
      "  (0, 2)\t0.0615467\n",
      "  (1, 0)\t0.804264\n",
      "  (1, 1)\t0.227985\n",
      "  (2, 0)\t0.169861\n",
      "  (2, 1)\t0.606306\n",
      "  (2, 2)\t1.59877\n"
     ]
    }
   ],
   "source": [
    "# mathematical transformations with sparse matrices\n",
    "x = scipy.sparse.rand(3,3,density=0.5, format=\"csr\", dtype=numpy.float32)\n",
    "y = scipy.sparse.rand(3,3,density=0.5, format=\"csr\", dtype=numpy.float32)\n",
    "print(\"x=\")\n",
    "print(x)\n",
    "print(\"y=\")\n",
    "print(y)\n",
    "print(\"x+y=\")\n",
    "print(x+y)"
   ]
  },
  {
   "cell_type": "code",
   "execution_count": 9,
   "metadata": {
    "collapsed": false
   },
   "outputs": [
    {
     "name": "stdout",
     "output_type": "stream",
     "text": [
      "Matrix multiplication x y =\n",
      "  (1, 2)\t0.0494998\n",
      "  (1, 0)\t0.0515819\n",
      "  (2, 2)\t0.636449\n",
      "  (2, 0)\t0.127179\n",
      "elementwise multiplication:\n",
      "  (2, 2)\t0.636449\n"
     ]
    }
   ],
   "source": [
    "print(\"Matrix multiplication x y =\")\n",
    "print(x * y)\n",
    "print(\"elementwise multiplication:\")\n",
    "print(x.multiply(y))"
   ]
  },
  {
   "cell_type": "markdown",
   "metadata": {},
   "source": [
    "## Common methods of sparse matrices\n",
    "\n",
    "- `x.mean()`: the mean of the values in the matrix\n",
    "- `x.minimum(y)`: elementwise minimum operation between matrix x and scalar y\n",
    "- `x.transpose()` or `x.T`: return the transpose of the matrix as a sparse matrix.\n",
    "- `x.toarray()`: convert sparse matrix into a regular numpy array\n",
    "- `x.sum(axis=)`: calculate the sum over the matrix or the sum over one axis.\n",
    "- `x.nonzero()`: return the indices of the non-zero elements.\n",
    "- `x.reshape(shape)`: reshape the array to another shape.\n",
    "- `x.multiply(y)`: pointwise multiplication of x with another matrix y (be careful with the shape).\n"
   ]
  },
  {
   "cell_type": "code",
   "execution_count": 10,
   "metadata": {
    "collapsed": false
   },
   "outputs": [
    {
     "name": "stdout",
     "output_type": "stream",
     "text": [
      "[[ 0.          0.          0.        ]\n",
      " [ 0.80426353  0.22798483  0.        ]\n",
      " [ 0.          0.60630578  0.74872351]]\n"
     ]
    }
   ],
   "source": [
    "print(x.minimum(1.0).toarray())"
   ]
  },
  {
   "cell_type": "code",
   "execution_count": 11,
   "metadata": {
    "collapsed": false
   },
   "outputs": [
    {
     "name": "stdout",
     "output_type": "stream",
     "text": [
      "Mean over the total matrix:  0.193623\n",
      "Mean for every column:  [[ 0.07253616  0.29860044  0.20449437  0.17717394  0.21530907]]\n",
      "Total sum of the matrix: 9.68114\n"
     ]
    }
   ],
   "source": [
    "# create a random 10 by 5 sparse matrix with density 0.4 in the dictionary of keys format \n",
    "x = scipy.sparse.rand(10,5,density=0.4, format=\"dok\", dtype=numpy.float32)\n",
    "\n",
    "# calculate the mean \n",
    "print(\"Mean over the total matrix: \", x.mean())\n",
    "print(\"Mean for every column: \", x.mean(axis=0))\n",
    "\n",
    "# calculate the sum over the matrix\n",
    "print(\"Total sum of the matrix:\", x.sum())"
   ]
  },
  {
   "cell_type": "code",
   "execution_count": 12,
   "metadata": {
    "collapsed": false
   },
   "outputs": [
    {
     "name": "stdout",
     "output_type": "stream",
     "text": [
      "Transpose:    (1, 2)\t0.214503\n",
      "  (2, 7)\t0.785754\n",
      "  (4, 7)\t0.644153\n",
      "  (4, 9)\t0.330321\n",
      "  (3, 3)\t0.938467\n",
      "  (3, 0)\t0.0671019\n",
      "  (2, 8)\t0.0981583\n",
      "  (2, 2)\t0.560554\n",
      "  (1, 1)\t0.747523\n",
      "  (1, 4)\t0.0848251\n",
      "  (0, 2)\t0.515467\n",
      "  (3, 8)\t0.424741\n",
      "  (2, 5)\t0.60026\n",
      "  (1, 7)\t0.618264\n",
      "  (0, 9)\t0.966084\n",
      "  (3, 4)\t0.668176\n",
      "  (1, 0)\t0.42679\n",
      "  (4, 1)\t0.0538864\n",
      "  (0, 3)\t0.462181\n",
      "  (3, 5)\t0.91012\n",
      "Multiply pointwise:  \n"
     ]
    }
   ],
   "source": [
    "# create sparse matrix\n",
    "x = scipy.sparse.rand(10,5,density=0.4, format=\"dok\", dtype=numpy.float32)\n",
    "\n",
    "# transpose\n",
    "print(\"Transpose: \", x.transpose())\n",
    "\n",
    "# multiply pointwise\n",
    "y = scipy.sparse.rand(10, 5,density=0.2, format=\"dok\", dtype=numpy.float32)\n",
    "print(\"Multiply pointwise: \", x.multiply(y))\n",
    "\n"
   ]
  },
  {
   "cell_type": "markdown",
   "metadata": {},
   "source": [
    "## Important warnings\n",
    "\n",
    "### Mean subtraction\n",
    "\n",
    "When subtracting the mean from all values of a sparse matrix the sparseness of the matrix is destroyed. \n",
    "\n",
    "The reason is that from all zeros values the mean in subtracted so in general this will lead to a matrix with almost no zero values and all the old zero values will now have the value -mean (and of course the only exception is when the mean is equal to zero). \n",
    "\n",
    "The same warning hold for normalization or standardization of the matrix."
   ]
  },
  {
   "cell_type": "code",
   "execution_count": 13,
   "metadata": {
    "collapsed": false
   },
   "outputs": [
    {
     "name": "stdout",
     "output_type": "stream",
     "text": [
      "mean:  0.191033\n"
     ]
    },
    {
     "ename": "NotImplementedError",
     "evalue": "adding a nonzero scalar to a sparse matrix is not supported",
     "output_type": "error",
     "traceback": [
      "\u001b[0;31m---------------------------------------------------------------------------\u001b[0m",
      "\u001b[0;31mNotImplementedError\u001b[0m                       Traceback (most recent call last)",
      "\u001b[0;32m<ipython-input-13-43163d6810f2>\u001b[0m in \u001b[0;36m<module>\u001b[0;34m()\u001b[0m\n\u001b[1;32m      2\u001b[0m \u001b[0mx\u001b[0m \u001b[0;34m=\u001b[0m \u001b[0mscipy\u001b[0m\u001b[0;34m.\u001b[0m\u001b[0msparse\u001b[0m\u001b[0;34m.\u001b[0m\u001b[0mrand\u001b[0m\u001b[0;34m(\u001b[0m\u001b[0;36m10\u001b[0m\u001b[0;34m,\u001b[0m\u001b[0;36m5\u001b[0m\u001b[0;34m,\u001b[0m\u001b[0mdensity\u001b[0m\u001b[0;34m=\u001b[0m\u001b[0;36m0.4\u001b[0m\u001b[0;34m,\u001b[0m \u001b[0mformat\u001b[0m\u001b[0;34m=\u001b[0m\u001b[0;34m\"dok\"\u001b[0m\u001b[0;34m,\u001b[0m \u001b[0mdtype\u001b[0m\u001b[0;34m=\u001b[0m\u001b[0mnumpy\u001b[0m\u001b[0;34m.\u001b[0m\u001b[0mfloat32\u001b[0m\u001b[0;34m)\u001b[0m\u001b[0;34m\u001b[0m\u001b[0m\n\u001b[1;32m      3\u001b[0m \u001b[0mprint\u001b[0m\u001b[0;34m(\u001b[0m\u001b[0;34m\"mean: \"\u001b[0m\u001b[0;34m,\u001b[0m \u001b[0mx\u001b[0m\u001b[0;34m.\u001b[0m\u001b[0mmean\u001b[0m\u001b[0;34m(\u001b[0m\u001b[0;34m)\u001b[0m\u001b[0;34m)\u001b[0m\u001b[0;34m\u001b[0m\u001b[0m\n\u001b[0;32m----> 4\u001b[0;31m \u001b[0mprint\u001b[0m\u001b[0;34m(\u001b[0m\u001b[0mx\u001b[0m\u001b[0;34m-\u001b[0m\u001b[0mx\u001b[0m\u001b[0;34m.\u001b[0m\u001b[0mmean\u001b[0m\u001b[0;34m(\u001b[0m\u001b[0;34m)\u001b[0m\u001b[0;34m)\u001b[0m\u001b[0;34m\u001b[0m\u001b[0m\n\u001b[0m",
      "\u001b[0;32m~/.local/lib/python3.4/site-packages/scipy/sparse/base.py\u001b[0m in \u001b[0;36m__sub__\u001b[0;34m(self, other)\u001b[0m\n\u001b[1;32m    335\u001b[0m     \u001b[0;32mdef\u001b[0m \u001b[0m__sub__\u001b[0m\u001b[0;34m(\u001b[0m\u001b[0mself\u001b[0m\u001b[0;34m,\u001b[0m \u001b[0mother\u001b[0m\u001b[0;34m)\u001b[0m\u001b[0;34m:\u001b[0m   \u001b[0;31m# self - other\u001b[0m\u001b[0;34m\u001b[0m\u001b[0m\n\u001b[1;32m    336\u001b[0m         \u001b[0;31m# note: this can't be replaced by self + (-other) for unsigned types\u001b[0m\u001b[0;34m\u001b[0m\u001b[0;34m\u001b[0m\u001b[0m\n\u001b[0;32m--> 337\u001b[0;31m         \u001b[0;32mreturn\u001b[0m \u001b[0mself\u001b[0m\u001b[0;34m.\u001b[0m\u001b[0mtocsr\u001b[0m\u001b[0;34m(\u001b[0m\u001b[0;34m)\u001b[0m\u001b[0;34m.\u001b[0m\u001b[0m__sub__\u001b[0m\u001b[0;34m(\u001b[0m\u001b[0mother\u001b[0m\u001b[0;34m)\u001b[0m\u001b[0;34m\u001b[0m\u001b[0m\n\u001b[0m\u001b[1;32m    338\u001b[0m \u001b[0;34m\u001b[0m\u001b[0m\n\u001b[1;32m    339\u001b[0m     \u001b[0;32mdef\u001b[0m \u001b[0m__rsub__\u001b[0m\u001b[0;34m(\u001b[0m\u001b[0mself\u001b[0m\u001b[0;34m,\u001b[0m \u001b[0mother\u001b[0m\u001b[0;34m)\u001b[0m\u001b[0;34m:\u001b[0m  \u001b[0;31m# other - self\u001b[0m\u001b[0;34m\u001b[0m\u001b[0m\n",
      "\u001b[0;32m~/.local/lib/python3.4/site-packages/scipy/sparse/compressed.py\u001b[0m in \u001b[0;36m__sub__\u001b[0;34m(self, other)\u001b[0m\n\u001b[1;32m    356\u001b[0m                 \u001b[0;32mreturn\u001b[0m \u001b[0mself\u001b[0m\u001b[0;34m.\u001b[0m\u001b[0mcopy\u001b[0m\u001b[0;34m(\u001b[0m\u001b[0;34m)\u001b[0m\u001b[0;34m\u001b[0m\u001b[0m\n\u001b[1;32m    357\u001b[0m             \u001b[0;32melse\u001b[0m\u001b[0;34m:\u001b[0m  \u001b[0;31m# Now we would add this scalar to every element.\u001b[0m\u001b[0;34m\u001b[0m\u001b[0m\n\u001b[0;32m--> 358\u001b[0;31m                 raise NotImplementedError('adding a nonzero scalar to a '\n\u001b[0m\u001b[1;32m    359\u001b[0m                                           'sparse matrix is not supported')\n\u001b[1;32m    360\u001b[0m         \u001b[0;32melif\u001b[0m \u001b[0misspmatrix\u001b[0m\u001b[0;34m(\u001b[0m\u001b[0mother\u001b[0m\u001b[0;34m)\u001b[0m\u001b[0;34m:\u001b[0m\u001b[0;34m\u001b[0m\u001b[0m\n",
      "\u001b[0;31mNotImplementedError\u001b[0m: adding a nonzero scalar to a sparse matrix is not supported"
     ]
    }
   ],
   "source": [
    "# the result of mean substraction of a sparse matrix is a dense matrix\n",
    "x = scipy.sparse.rand(10,5,density=0.4, format=\"dok\", dtype=numpy.float32)\n",
    "print(\"mean: \", x.mean())\n",
    "print(x-x.mean())"
   ]
  },
  {
   "cell_type": "markdown",
   "metadata": {},
   "source": [
    "As you see, SciPy makes it easy to avoid this operation, since it throws an error when you attempt it :-) "
   ]
  },
  {
   "cell_type": "markdown",
   "metadata": {
    "collapsed": true
   },
   "source": [
    "### Dot product between sparse matrices\n",
    "When using sparse matrices you should not use the `numpy.dot` function, as this function does not understand sparse matrices.\n",
    "\n",
    "Use `x.dot(y)` instead.\n",
    "\n",
    "Reference: http://docs.scipy.org/doc/scipy/reference/sparse.html#matrix-vector-product\n"
   ]
  },
  {
   "cell_type": "code",
   "execution_count": 14,
   "metadata": {
    "collapsed": false
   },
   "outputs": [
    {
     "name": "stdout",
     "output_type": "stream",
     "text": [
      "[[1 2 0]\n",
      " [0 0 3]\n",
      " [4 0 5]]\n",
      "[5 6 0]\n",
      "[17  0 20]\n"
     ]
    }
   ],
   "source": [
    "# dot product \n",
    "x = scipy.sparse.dok_matrix([[1, 2, 0], [0, 0, 3], [4, 0, 5]])\n",
    "y = numpy.array([5, 6, 0])\n",
    "print(x.toarray())\n",
    "print(y)\n",
    "\n",
    "print(x.dot(y))"
   ]
  },
  {
   "cell_type": "code",
   "execution_count": 15,
   "metadata": {
    "collapsed": false
   },
   "outputs": [
    {
     "name": "stdout",
     "output_type": "stream",
     "text": [
      "[ <3x3 sparse matrix of type '<class 'numpy.int64'>'\n",
      "\twith 5 stored elements in Dictionary Of Keys format>\n",
      " <3x3 sparse matrix of type '<class 'numpy.int64'>'\n",
      "\twith 5 stored elements in Dictionary Of Keys format>\n",
      " <3x3 sparse matrix of type '<class 'numpy.int64'>'\n",
      "\twith 0 stored elements in Dictionary Of Keys format>]\n"
     ]
    }
   ],
   "source": [
    "# DO NOT DO THIS\n",
    "print(numpy.dot(x, y))"
   ]
  },
  {
   "cell_type": "markdown",
   "metadata": {},
   "source": [
    "### Missing operations\n",
    "\n",
    "Certain operations are not available for sparse matrices: either because they are not compatible with sparsity, or they simply haven't been implemented. So you may find that you occasionaly need to convert a sparse matrix to a numpy array (using `.toarray()`) to perform an operation. Be careful when doing this with very large matrices: they will most likely not fit in memory, and crash your Python session.\n",
    "\n",
    "Some commonly used missing functions include:\n",
    "\n",
    "- `.argmax`\n",
    "- `.argmin`\n",
    "- `.argsort`\n",
    "\n",
    "### Exercise 5.2\n",
    "\n",
    "Given a word index dictionary and a document-term matrix returned by `word_count`, find the most frequent word for each row."
   ]
  },
  {
   "cell_type": "code",
   "execution_count": 17,
   "metadata": {
    "collapsed": false
   },
   "outputs": [],
   "source": [
    "documents = ['a a a b b c'.split(),\n",
    "            'c foo foo bar'.split(),\n",
    "             'bar bar one two'.split()]"
   ]
  },
  {
   "cell_type": "markdown",
   "metadata": {},
   "source": [
    "### Exercise 5.3\n",
    "\n",
    "Function `f` takes a document-term matrix, and returns another matrix. Analyze the code in `f` and try to figure out what this function is doing and how to interpret the result it returns.\n",
    "```python\n",
    "def f(D):\n",
    "    M = D.minimum(1.0)\n",
    "    return M.dot(M.T)\n",
    "```"
   ]
  },
  {
   "cell_type": "code",
   "execution_count": 18,
   "metadata": {
    "collapsed": true
   },
   "outputs": [],
   "source": [
    "def f(D):\n",
    "    \"Works on sparse matrices\"\n",
    "    M = D.minimum(1.0)\n",
    "    return M.dot(M.T)\n",
    "\n",
    "def g(D):\n",
    "    \"Works on arrays\"\n",
    "    M = numpy.minimum(D, 1.0)\n",
    "    return M.dot(M.T)\n",
    "\n",
    " "
   ]
  },
  {
   "cell_type": "markdown",
   "metadata": {},
   "source": [
    "### Exercise 5.4\n",
    "\n",
    "- Create a list of texts by reading the first 1000 lines from [coco_val.txt](coco_val.txt). Create matrix A with the document-term matrix from these 1000 sentences. Create another matrix B by converting the matrix A from `dok` format to `csr` format. Use the ipython command `%timeit` to compare whether it's faster to apply function `f` (see above) to matrix A or B.\n",
    "- Create matrix C by converting A to a regular numpy array. Write function `g` which is like `f`, but works on regular numpy array arrays. Use `%timeit` to see how fast g is when applied to matrix C."
   ]
  },
  {
   "cell_type": "code",
   "execution_count": 26,
   "metadata": {
    "collapsed": false
   },
   "outputs": [],
   "source": [
    "lines = [ line.split() for line in open(\"coco_val.txt\")][:1000]"
   ]
  },
  {
   "cell_type": "markdown",
   "metadata": {
    "collapsed": true
   },
   "source": [
    "### Exercise 5.5\n",
    "\n",
    "There are a number of ways of measuring similarity between documents. For this exercise we'll try to use the number of unique words the documents have in common (word overlap).\n",
    "\n",
    "\n",
    "1. Define function `similarity` which takes a document-term matrix, and returns the matrix where the value in the row $i$ and column $j$ is the word overlap between the $i$th and $j$th document.\n",
    "3. Calculate the overlap similarity matrix for sentences in [coco_val.txt](coco_val.txt). For the first 20 sentences, display the 3 most similar sentences according to this matrix.\n",
    "4. Word overlap is a very simplistic similarity measure. Suggest, and possibly implement, a better way of measuring similarity between documents based on a document-term matrix."
   ]
  },
  {
   "cell_type": "code",
   "execution_count": null,
   "metadata": {
    "collapsed": true
   },
   "outputs": [],
   "source": []
  }
 ],
 "metadata": {
  "kernelspec": {
   "display_name": "Python 3",
   "language": "python",
   "name": "python3"
  },
  "language_info": {
   "codemirror_mode": {
    "name": "ipython",
    "version": 3
   },
   "file_extension": ".py",
   "mimetype": "text/x-python",
   "name": "python",
   "nbconvert_exporter": "python",
   "pygments_lexer": "ipython3",
   "version": "3.4.3+"
  }
 },
 "nbformat": 4,
 "nbformat_minor": 1
}
