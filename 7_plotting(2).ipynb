{
 "cells": [
  {
   "cell_type": "markdown",
   "metadata": {},
   "source": [
    "# Pandas and matplotlib\n",
    "\n",
    "In this session we'll do a brief overview of two libraries useful for scientific computing:\n",
    "\n",
    "- `pandas` is a library which provides datastructures useful for storing and processing tabular data and especially time series. It has some similarities to the statistical language `R`. \n",
    "- `matplotlib` is low-level Python library for plotting. \n",
    "\n",
    "Both of these libraries are useful in their basic form, but both have many intricacies and can be error prone. "
   ]
  },
  {
   "cell_type": "markdown",
   "metadata": {},
   "source": [
    "## Pandas\n"
   ]
  },
  {
   "cell_type": "code",
   "execution_count": null,
   "metadata": {
    "collapsed": true
   },
   "outputs": [],
   "source": [
    "import pandas as pd"
   ]
  },
  {
   "cell_type": "markdown",
   "metadata": {},
   "source": [
    "Pandas has a useful function `pd.read_csv` for loading CSV files. Tabular data is stored in a DataFrame object. The DataFrame will be pretty-printed by the Jupyter notebook:"
   ]
  },
  {
   "cell_type": "code",
   "execution_count": null,
   "metadata": {
    "collapsed": false
   },
   "outputs": [],
   "source": [
    "data = pd.read_csv(\"population.csv\", sep='\\t', index_col='year')\n",
    "data.head()"
   ]
  },
  {
   "cell_type": "markdown",
   "metadata": {},
   "source": [
    "A DataFrame has labels for columns (similar to a numpy structured array) but it also can have labels for rows. \n",
    "The set of labels for rows is called an index. This is especially useful for time series. The index can be accessed via the `.index` attribute:"
   ]
  },
  {
   "cell_type": "code",
   "execution_count": null,
   "metadata": {
    "collapsed": false
   },
   "outputs": [],
   "source": [
    "print(data.index)"
   ]
  },
  {
   "cell_type": "markdown",
   "metadata": {},
   "source": [
    "The data in a DataFrame can be accessed by column labels or by row labels:"
   ]
  },
  {
   "cell_type": "code",
   "execution_count": null,
   "metadata": {
    "collapsed": false
   },
   "outputs": [],
   "source": [
    "# Print the lynx colum\n",
    "print(data['lynx'])"
   ]
  },
  {
   "cell_type": "markdown",
   "metadata": {},
   "source": [
    "In order to access data by row label, use the `.loc` attribute:"
   ]
  },
  {
   "cell_type": "code",
   "execution_count": null,
   "metadata": {
    "collapsed": false
   },
   "outputs": [],
   "source": [
    "# print the 1919 row\n",
    "print(data.loc[1919])\n",
    "# print the range of data between 1900 and 1905\n",
    "print(data.loc[1900:1905])"
   ]
  },
  {
   "cell_type": "markdown",
   "metadata": {},
   "source": [
    "In order to access data by row position, use the `.iloc` attribute:"
   ]
  },
  {
   "cell_type": "code",
   "execution_count": null,
   "metadata": {
    "collapsed": false
   },
   "outputs": [],
   "source": [
    "# print the penultimate row\n",
    "print(data.iloc[-2])"
   ]
  },
  {
   "cell_type": "markdown",
   "metadata": {},
   "source": [
    "DataFrames can be converted to the underlying numpy array"
   ]
  },
  {
   "cell_type": "code",
   "execution_count": null,
   "metadata": {
    "collapsed": false
   },
   "outputs": [],
   "source": [
    "print(data.as_matrix())"
   ]
  },
  {
   "cell_type": "markdown",
   "metadata": {},
   "source": [
    "Many standard methods can be applied to rows and columns of a DataFrame:"
   ]
  },
  {
   "cell_type": "code",
   "execution_count": null,
   "metadata": {
    "collapsed": false
   },
   "outputs": [],
   "source": [
    "# Mean per column\n",
    "print(data.mean(axis=0))\n",
    "# Sum per row\n",
    "print(data.sum(axis=1))"
   ]
  },
  {
   "cell_type": "markdown",
   "metadata": {},
   "source": [
    "### Exercise 7.0\n",
    "\n",
    "Print out all years where the population of lynxes in more than the population of hares and also more than the population of carrots. \n",
    "You can create a boolean index appropriate for use with the the `.loc` attribute by simply using a boolean comparison operator `>`. You can combine boolean indices using `&` (AND) and `|` (OR)."
   ]
  },
  {
   "cell_type": "code",
   "execution_count": null,
   "metadata": {
    "collapsed": false
   },
   "outputs": [],
   "source": [
    "# -------------------\n"
   ]
  },
  {
   "cell_type": "markdown",
   "metadata": {},
   "source": [
    "## Matplotlib\n",
    "\n",
    "The IPython command `%pylab --inline` imports plotting functions from module pylab and also all the functions from `numpy`. It's often better to avoid these imports and use prefixed functions instead, by using this command: `%pylab --inline --no-import-all`. See (https://ipython.org/ipython-doc/dev/interactive/magics.html#magic-pylab)[https://ipython.org/ipython-doc/dev/interactive/magics.html#magic-pylab] for more information."
   ]
  },
  {
   "cell_type": "code",
   "execution_count": null,
   "metadata": {
    "collapsed": false
   },
   "outputs": [],
   "source": [
    "%pylab inline --no-import-all"
   ]
  },
  {
   "cell_type": "markdown",
   "metadata": {},
   "source": [
    "Now modules `numpy` (also renamed as `np`) and `pyplot` (also renamed as `plt`) are available in the notebook.\n",
    "\n",
    "## Basic plots\n",
    "\n",
    "### Line plot"
   ]
  },
  {
   "cell_type": "code",
   "execution_count": null,
   "metadata": {
    "collapsed": false
   },
   "outputs": [],
   "source": [
    "x = numpy.linspace(-10, 10, 100)\n",
    "y = numpy.sin(x)\n",
    "plt.plot(x, y)"
   ]
  },
  {
   "cell_type": "markdown",
   "metadata": {},
   "source": [
    "#### Customizing plots"
   ]
  },
  {
   "cell_type": "code",
   "execution_count": null,
   "metadata": {
    "collapsed": false
   },
   "outputs": [],
   "source": [
    "# Change style of line\n",
    "# Add line label\n",
    "plt.plot(x, y, linewidth=3, linestyle='dashed', color='red', label='sin(x)')\n",
    "# Add another line\n",
    "plt.plot(x, numpy.cos(x), linewidth=3, linestyle='dotted', color='green', label='cos(x)')\n",
    "# Change axis ranges\n",
    "plt.xlim(-5, 5)\n",
    "plt.ylim(-1.5, 1.5)\n",
    "# Add x-axis label\n",
    "plt.xlabel(\"x\")\n",
    "# Add title\n",
    "plt.title(\"Sine and cosine functions\")\n",
    "# Add legend, which will use the labels added to lines\n",
    "plt.legend(loc='upper right')\n",
    "# Save plot\n",
    "plt.savefig('sin-cos.png')"
   ]
  },
  {
   "cell_type": "markdown",
   "metadata": {},
   "source": [
    "#### Exercise 7.1\n",
    "\n",
    "Load the data from [populations.csv](populations.csv) into a pandas DataFrame. Create a line plot with the year on the x-axis and the population of each species on the y-axis. Add axis labels, a legend and a title. The line for each species should have a different color.\n"
   ]
  },
  {
   "cell_type": "code",
   "execution_count": null,
   "metadata": {
    "collapsed": false
   },
   "outputs": [],
   "source": []
  },
  {
   "cell_type": "markdown",
   "metadata": {},
   "source": [
    "### Scatter plot"
   ]
  },
  {
   "cell_type": "code",
   "execution_count": null,
   "metadata": {
    "collapsed": false
   },
   "outputs": [],
   "source": [
    "# Noisy sine function\n",
    "x = numpy.linspace(-7, 7, 100)\n",
    "e = numpy.random.normal(0, 0.3, 100)\n",
    "y = numpy.sin(x) + e\n",
    "plt.scatter(x, y)"
   ]
  },
  {
   "cell_type": "markdown",
   "metadata": {},
   "source": [
    "#### Customizing points"
   ]
  },
  {
   "cell_type": "code",
   "execution_count": null,
   "metadata": {
    "collapsed": false,
    "scrolled": true
   },
   "outputs": [],
   "source": [
    "# Assign random area sizes to points\n",
    "size = numpy.random.uniform(1,100,100)\n",
    "# Plot y-values below 0 a different color\n",
    "neg = y < 0.0\n",
    "nonneg = y >= 0.0\n",
    "plt.scatter(x[nonneg], y[nonneg], s=size, alpha=0.5, c='red', label='non-negative') \n",
    "plt.scatter(x[neg], y[neg], s=size, alpha=0.5, c='blue', label='negative')\n",
    "# add transparency to better see overlapping points\n",
    "plt.legend(loc='best')"
   ]
  },
  {
   "cell_type": "markdown",
   "metadata": {},
   "source": [
    "#### Exercise 7.2\n",
    "\n",
    "Load the iris dataset into a pandas DataFrame (you can use the function `pd.read_table` with the keyword argument `delim_whitespace=True` to read tabular data formatted as a space-delimited text file). \n",
    "Create a scatter plot of the first feature (Sepal length) vs the second feature (Sepal width). Make the points for different species a different color. Add title, axis labels, and a legend."
   ]
  },
  {
   "cell_type": "code",
   "execution_count": null,
   "metadata": {
    "collapsed": true
   },
   "outputs": [],
   "source": [
    "iris = pd.read_table(\"iris.txt\", delim_whitespace=True, names=[\"SepalLength\", \"SepalWidth\", \"PetalLength\", \"PetalWidth\", \"Species\"])"
   ]
  },
  {
   "cell_type": "code",
   "execution_count": null,
   "metadata": {
    "collapsed": false
   },
   "outputs": [],
   "source": []
  },
  {
   "cell_type": "markdown",
   "metadata": {},
   "source": [
    "#### Exercise 7.3\n",
    "\n",
    "Given a $m\\times n$ matrix $X$ with $n$ data points and $n$ features, we can project the points to $d$ dimensional space  and store the result in matrix $X_d$ using Principal Component Analysis:\n",
    "```python\n",
    "from sklearn.decomposition import PCA\n",
    "pca = PCA(n_components=D)\n",
    "X_d = pca.fit_transform(X)\n",
    "```\n",
    "\n",
    "Project the 4-dimensional iris dataset to 2 dimensions using PCA and plot the result, with principal component 1 on the x-axis and principal component 2 on the y-axis. Label the axes and use different colors for each species."
   ]
  },
  {
   "cell_type": "code",
   "execution_count": null,
   "metadata": {
    "collapsed": false
   },
   "outputs": [],
   "source": []
  },
  {
   "cell_type": "code",
   "execution_count": null,
   "metadata": {
    "collapsed": false
   },
   "outputs": [],
   "source": []
  },
  {
   "cell_type": "markdown",
   "metadata": {},
   "source": [
    "#### Multiple plots\n",
    "\n",
    "The command `plt.subplot(r, c, i)` allows us to display the $i$th plot in a figure consisting of $r$ rows and $c$ columns.\n",
    "\n"
   ]
  },
  {
   "cell_type": "code",
   "execution_count": null,
   "metadata": {
    "collapsed": false
   },
   "outputs": [],
   "source": [
    "plt.figure(figsize=(8,6)) # Change width and height (inches)\n",
    "\n",
    "plt.subplot(3,1,1)\n",
    "plt.plot(x, numpy.sin(x), color='red')\n",
    "plt.ylabel(\"sin(x)\")\n",
    "\n",
    "plt.subplot(3,1,2)\n",
    "plt.plot(x, numpy.cos(x),color='blue')\n",
    "plt.ylabel(\"cos(x)\")\n",
    "\n",
    "plt.subplot(3,1,3)\n",
    "plt.plot(x, numpy.sin(x)+numpy.cos(x), color='purple')\n",
    "plt.ylabel(\"sin(x)+cos(x)\")\n",
    "plt.xlabel(\"x\")\n",
    "\n",
    "plt.savefig('multiple.png')\n"
   ]
  },
  {
   "cell_type": "markdown",
   "metadata": {},
   "source": [
    "#### Exercise 7.4\n",
    "\n",
    "Load the data from [winequality-red.csv](winequality-red.csv) into a pandas DataFrame.\n",
    "Create a figure with multiple subplots. Each subplot should be a scatterplot of one of the features in the data against the quality rating. Each subplot should also contain a legend with the name of the feature, and the correlation coefficient between it and the quality. \n",
    "\n",
    "- As an extra, add the linear regression line to each subplot."
   ]
  },
  {
   "cell_type": "code",
   "execution_count": null,
   "metadata": {
    "collapsed": true
   },
   "outputs": [],
   "source": []
  },
  {
   "cell_type": "code",
   "execution_count": null,
   "metadata": {
    "collapsed": true
   },
   "outputs": [],
   "source": []
  }
 ],
 "metadata": {
  "kernelspec": {
   "display_name": "Python 3",
   "language": "python",
   "name": "python3"
  },
  "language_info": {
   "codemirror_mode": {
    "name": "ipython",
    "version": 3
   },
   "file_extension": ".py",
   "mimetype": "text/x-python",
   "name": "python",
   "nbconvert_exporter": "python",
   "pygments_lexer": "ipython3",
   "version": "3.4.3+"
  }
 },
 "nbformat": 4,
 "nbformat_minor": 1
}
