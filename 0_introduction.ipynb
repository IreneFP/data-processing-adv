{
 "cells": [
  {
   "cell_type": "markdown",
   "metadata": {
    "collapsed": true,
    "slideshow": {
     "slide_type": "slide"
    }
   },
   "source": [
    "# Data Processing Advanced\n",
    "\n",
    "- Introduction to the most important Python libraries for scientific research\n",
    "  - Data preparaton, conversion and manipulation\n",
    "  - Data analysis\n",
    "  - Machine learning\n",
    "- Enable you to use Python for your research"
   ]
  },
  {
   "cell_type": "markdown",
   "metadata": {
    "slideshow": {
     "slide_type": "slide"
    }
   },
   "source": [
    "# Instructors\n",
    "\n",
    "- Coordinator: Grzegorz Chrupała http://grzegorz.chrupala.me\n",
    "- Teaching assistant: Dennis de Groot"
   ]
  },
  {
   "cell_type": "markdown",
   "metadata": {
    "collapsed": true,
    "slideshow": {
     "slide_type": "slide"
    }
   },
   "source": [
    "# Prerequisites and related courses\n",
    "\n",
    "- Passing grade in **RS: Data Processing**"
   ]
  },
  {
   "cell_type": "markdown",
   "metadata": {
    "slideshow": {
     "slide_type": "slide"
    }
   },
   "source": [
    "# Assessment\n",
    "\n",
    "- Individual programming assignment (55%)\n",
    "- Group programming assignment (45%)\n",
    "- Details TBA via blackboard"
   ]
  },
  {
   "cell_type": "markdown",
   "metadata": {
    "slideshow": {
     "slide_type": "slide"
    }
   },
   "source": [
    "# Course forum\n",
    "\n",
    "- Subscribe to the course forum\n",
    "- Post any question/comments regarding course content or organization there\n",
    "- Try to answer your colleagues questions\n",
    "- Only contact the instructors via email with private matters\n"
   ]
  },
  {
   "cell_type": "markdown",
   "metadata": {
    "slideshow": {
     "slide_type": "slide"
    }
   },
   "source": [
    "# Software\n",
    "\n",
    "- All needed software is installed on the Jupyter notebook\n",
    "- You can install Python + numpy + scipy etc on your own computer if you want\n",
    "- But keep in mind that we are unable to assist you with installation problem\n",
    "   - Use Google / Stackoverflow\n",
    "   \n",
    "- Make sure to regularly back up the code you write via Jupyter server"
   ]
  },
  {
   "cell_type": "markdown",
   "metadata": {
    "slideshow": {
     "slide_type": "slide"
    }
   },
   "source": [
    "# Recommended reading\n",
    "\n",
    "- Scipy Lecture Notes: http://www.scipy-lectures.org/\n"
   ]
  },
  {
   "cell_type": "code",
   "execution_count": null,
   "metadata": {
    "collapsed": true
   },
   "outputs": [],
   "source": []
  }
 ],
 "metadata": {
  "kernelspec": {
   "display_name": "Python 3",
   "language": "python",
   "name": "python3"
  },
  "language_info": {
   "codemirror_mode": {
    "name": "ipython",
    "version": 3
   },
   "file_extension": ".py",
   "mimetype": "text/x-python",
   "name": "python",
   "nbconvert_exporter": "python",
   "pygments_lexer": "ipython3",
   "version": "3.6.7rc1"
  }
 },
 "nbformat": 4,
 "nbformat_minor": 1
}
